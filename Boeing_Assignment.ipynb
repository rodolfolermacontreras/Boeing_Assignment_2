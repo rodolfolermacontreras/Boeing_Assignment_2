{
 "cells": [
  {
   "cell_type": "markdown",
   "id": "f3ee3a8e",
   "metadata": {},
   "source": [
    "# BOEING ASSIGNMENT\n",
    "\n",
    "## Applicant: Rodolfo Lerma\n",
    "\n",
    "## Probem Statement:\n",
    "Included in the training dataset is information on used cars previously sold. Each row corresponds to one used car listing. The first column of the data contains a unique identifier for the listing. The next twenty-six columns contain information on parameters relevant to the transaction, with those\n",
    "parameters described in more detail in the appendix attached. Finally, the last two columns of the `Training_dataset.csv` contain information on `Vehicle_Trim` and `Dealer_Listing_Price`, which describe the trim of the vehicle involved in the sale, and the price at which the vehicle was listed by the dealer.\n",
    "Your challenge is to build one or more models, through whatever means you find most appropriate, capable of predicting **vehicle trim** and **dealer listing price** given the other twenty-six variables provided."
   ]
  },
  {
   "cell_type": "markdown",
   "id": "1be2e6ff",
   "metadata": {},
   "source": [
    "# ABSTRACT:\n",
    "\n",
    "The analysis is structured in the following way:"
   ]
  },
  {
   "cell_type": "markdown",
   "id": "d18a77b5",
   "metadata": {},
   "source": [
    "### Analysis - Prediction (`Price & Trim`)\n",
    "\n",
    "- **Data Exploration**\n",
    "    - Training Dataset\n",
    "    - Testing Dataset\n",
    "    - General Exploration\n",
    "    - Distribution of Target Variables\n",
    "    - Distribution of Numerical Variables\n",
    "    - Categorical Variables\n",
    "        - Unique Values Training Dataset\n",
    "\n",
    "\n",
    "- **Data Formatting (Training Dataset & Testing Dataset)**\n",
    "    - Missing Values\n",
    "    - Removing Columns from Dataset\n",
    "    - Formatting Boolean Variables\n",
    "    - Normalizing Numerical Variables\n",
    "    - One Hot Encoding For Categorical Columns\n",
    "    - Formatting of two *List of Lists* Columns (`VehHistory` & `VehFeats`)\n",
    "        - `VehFeats`\n",
    "        - `VehHistory`\n",
    "    - Splitting the dataset into Target Variables and Features (Training Dataset)\n",
    "\n",
    "\n",
    "- **Model 1: Prediction of `Dealer Listing Price`**\n",
    "    - Feature Selection (LASSO) for `Dealer Listing Price` Variable\n",
    "    - Model for `Dealer Listing Price` prediction\n",
    "    - Training\n",
    "    - Results/Predictions (Training & Validation dataset)\n",
    "    - Re-train the model but now with all the datapoints (`training` + `validation`)\n",
    "        - Prediction using the `Test_data`\n",
    "\n",
    "\n",
    "- **Model 2: Prediction of `Vehicle_Trim`**\n",
    "    - Feature Selection (LASSO) for `Vehicle_Trim` Variable\n",
    "    - Different Models and Hyperparameters\n",
    "        - Hyperparameter Settings for the `Decision Tree` Model\n",
    "        - Hyperparameter Settings for the `Random Forest` Model\n",
    "        - Hyperparameter Settings for the `Logistic Regression` Model\n",
    "        - Comparison & Final Model Selection\n",
    "    - Final Model 2 Selection and Training (using `training` + `validation` data)\n",
    "\n",
    "\n",
    "- **Export to Dataframe**"
   ]
  },
  {
   "cell_type": "markdown",
   "id": "180c79b4",
   "metadata": {},
   "source": [
    "# Analysis - Prediction (`Price & Trim`)"
   ]
  },
  {
   "cell_type": "markdown",
   "id": "af014e18",
   "metadata": {},
   "source": [
    "## Data Exploration"
   ]
  },
  {
   "cell_type": "code",
   "execution_count": 1,
   "id": "a546600e",
   "metadata": {},
   "outputs": [],
   "source": [
    "import pandas as pd\n",
    "import numpy as np\n",
    "import seaborn as sns\n",
    "import matplotlib.pyplot as plt"
   ]
  },
  {
   "cell_type": "code",
   "execution_count": 2,
   "id": "d69b9916",
   "metadata": {},
   "outputs": [],
   "source": [
    "Test_df = pd.read_csv('Test_Dataset.csv')\n",
    "Training_df = pd.read_csv('Training_Dataset.csv')"
   ]
  },
  {
   "cell_type": "markdown",
   "id": "2e4ab66a",
   "metadata": {},
   "source": [
    "### Training Dataset"
   ]
  },
  {
   "cell_type": "code",
   "execution_count": 3,
   "id": "95207538",
   "metadata": {},
   "outputs": [
    {
     "data": {
      "text/html": [
       "<div>\n",
       "<style scoped>\n",
       "    .dataframe tbody tr th:only-of-type {\n",
       "        vertical-align: middle;\n",
       "    }\n",
       "\n",
       "    .dataframe tbody tr th {\n",
       "        vertical-align: top;\n",
       "    }\n",
       "\n",
       "    .dataframe thead th {\n",
       "        text-align: right;\n",
       "    }\n",
       "</style>\n",
       "<table border=\"1\" class=\"dataframe\">\n",
       "  <thead>\n",
       "    <tr style=\"text-align: right;\">\n",
       "      <th></th>\n",
       "      <th>ListingID</th>\n",
       "      <th>SellerCity</th>\n",
       "      <th>SellerIsPriv</th>\n",
       "      <th>SellerListSrc</th>\n",
       "      <th>SellerName</th>\n",
       "      <th>SellerRating</th>\n",
       "      <th>SellerRevCnt</th>\n",
       "      <th>SellerState</th>\n",
       "      <th>SellerZip</th>\n",
       "      <th>VehBodystyle</th>\n",
       "      <th>...</th>\n",
       "      <th>VehMake</th>\n",
       "      <th>VehMileage</th>\n",
       "      <th>VehModel</th>\n",
       "      <th>VehPriceLabel</th>\n",
       "      <th>VehSellerNotes</th>\n",
       "      <th>VehType</th>\n",
       "      <th>VehTransmission</th>\n",
       "      <th>VehYear</th>\n",
       "      <th>Vehicle_Trim</th>\n",
       "      <th>Dealer_Listing_Price</th>\n",
       "    </tr>\n",
       "  </thead>\n",
       "  <tbody>\n",
       "    <tr>\n",
       "      <th>0</th>\n",
       "      <td>3287</td>\n",
       "      <td>Warren</td>\n",
       "      <td>False</td>\n",
       "      <td>Inventory Command Center</td>\n",
       "      <td>Prime Motorz</td>\n",
       "      <td>5.0</td>\n",
       "      <td>32</td>\n",
       "      <td>MI</td>\n",
       "      <td>48091.0</td>\n",
       "      <td>SUV</td>\n",
       "      <td>...</td>\n",
       "      <td>Jeep</td>\n",
       "      <td>39319.0</td>\n",
       "      <td>Grand Cherokee</td>\n",
       "      <td>Fair Price</td>\n",
       "      <td>NaN</td>\n",
       "      <td>Used</td>\n",
       "      <td>Automatic 8-Speed</td>\n",
       "      <td>2015</td>\n",
       "      <td>High Altitude</td>\n",
       "      <td>30990.0</td>\n",
       "    </tr>\n",
       "    <tr>\n",
       "      <th>1</th>\n",
       "      <td>3920</td>\n",
       "      <td>Fargo</td>\n",
       "      <td>False</td>\n",
       "      <td>Cadillac Certified Program</td>\n",
       "      <td>Gateway Chevrolet Cadillac</td>\n",
       "      <td>4.8</td>\n",
       "      <td>1456</td>\n",
       "      <td>ND</td>\n",
       "      <td>58103.0</td>\n",
       "      <td>SUV</td>\n",
       "      <td>...</td>\n",
       "      <td>Cadillac</td>\n",
       "      <td>30352.0</td>\n",
       "      <td>XT5</td>\n",
       "      <td>Good Deal</td>\n",
       "      <td>Come take a look at our great pre-owned invent...</td>\n",
       "      <td>Used</td>\n",
       "      <td>NaN</td>\n",
       "      <td>2017</td>\n",
       "      <td>NaN</td>\n",
       "      <td>34860.0</td>\n",
       "    </tr>\n",
       "    <tr>\n",
       "      <th>2</th>\n",
       "      <td>4777</td>\n",
       "      <td>Waukesha</td>\n",
       "      <td>False</td>\n",
       "      <td>Jeep Certified Program</td>\n",
       "      <td>Wilde Chrysler Jeep Dodge Ram &amp;amp; Subaru</td>\n",
       "      <td>4.8</td>\n",
       "      <td>1405</td>\n",
       "      <td>WI</td>\n",
       "      <td>53186.0</td>\n",
       "      <td>SUV</td>\n",
       "      <td>...</td>\n",
       "      <td>Jeep</td>\n",
       "      <td>38957.0</td>\n",
       "      <td>Grand Cherokee</td>\n",
       "      <td>Good Deal</td>\n",
       "      <td>Backed by a rigorous 125-point inspection by f...</td>\n",
       "      <td>Used</td>\n",
       "      <td>8-Speed Automatic w/OD</td>\n",
       "      <td>2015</td>\n",
       "      <td>Laredo</td>\n",
       "      <td>23249.0</td>\n",
       "    </tr>\n",
       "    <tr>\n",
       "      <th>3</th>\n",
       "      <td>6242</td>\n",
       "      <td>Wentzville</td>\n",
       "      <td>False</td>\n",
       "      <td>Inventory Command Center</td>\n",
       "      <td>Century Dodge Chrysler Jeep RAM</td>\n",
       "      <td>4.4</td>\n",
       "      <td>21</td>\n",
       "      <td>MO</td>\n",
       "      <td>63385.0</td>\n",
       "      <td>SUV</td>\n",
       "      <td>...</td>\n",
       "      <td>Jeep</td>\n",
       "      <td>20404.0</td>\n",
       "      <td>Grand Cherokee</td>\n",
       "      <td>Good Deal</td>\n",
       "      <td>Drop by to see us and you will quickly see how...</td>\n",
       "      <td>Used</td>\n",
       "      <td>Automatic</td>\n",
       "      <td>2018</td>\n",
       "      <td>Limited</td>\n",
       "      <td>31977.0</td>\n",
       "    </tr>\n",
       "    <tr>\n",
       "      <th>4</th>\n",
       "      <td>7108</td>\n",
       "      <td>Fayetteville</td>\n",
       "      <td>False</td>\n",
       "      <td>HomeNet Automotive</td>\n",
       "      <td>Superior Buick GMC of Fayetteville</td>\n",
       "      <td>3.7</td>\n",
       "      <td>74</td>\n",
       "      <td>AR</td>\n",
       "      <td>72703.0</td>\n",
       "      <td>SUV</td>\n",
       "      <td>...</td>\n",
       "      <td>Cadillac</td>\n",
       "      <td>19788.0</td>\n",
       "      <td>XT5</td>\n",
       "      <td>Good Deal</td>\n",
       "      <td>Luxury, Exterior Parking Camera Rear, Front Du...</td>\n",
       "      <td>Used</td>\n",
       "      <td>8-Speed Automatic</td>\n",
       "      <td>2018</td>\n",
       "      <td>Luxury</td>\n",
       "      <td>33495.0</td>\n",
       "    </tr>\n",
       "  </tbody>\n",
       "</table>\n",
       "<p>5 rows × 29 columns</p>\n",
       "</div>"
      ],
      "text/plain": [
       "   ListingID    SellerCity  SellerIsPriv               SellerListSrc  \\\n",
       "0       3287        Warren         False    Inventory Command Center   \n",
       "1       3920         Fargo         False  Cadillac Certified Program   \n",
       "2       4777      Waukesha         False      Jeep Certified Program   \n",
       "3       6242    Wentzville         False    Inventory Command Center   \n",
       "4       7108  Fayetteville         False          HomeNet Automotive   \n",
       "\n",
       "                                   SellerName  SellerRating  SellerRevCnt  \\\n",
       "0                                Prime Motorz           5.0            32   \n",
       "1                  Gateway Chevrolet Cadillac           4.8          1456   \n",
       "2  Wilde Chrysler Jeep Dodge Ram &amp; Subaru           4.8          1405   \n",
       "3             Century Dodge Chrysler Jeep RAM           4.4            21   \n",
       "4          Superior Buick GMC of Fayetteville           3.7            74   \n",
       "\n",
       "  SellerState  SellerZip VehBodystyle  ...   VehMake VehMileage  \\\n",
       "0          MI    48091.0          SUV  ...      Jeep    39319.0   \n",
       "1          ND    58103.0          SUV  ...  Cadillac    30352.0   \n",
       "2          WI    53186.0          SUV  ...      Jeep    38957.0   \n",
       "3          MO    63385.0          SUV  ...      Jeep    20404.0   \n",
       "4          AR    72703.0          SUV  ...  Cadillac    19788.0   \n",
       "\n",
       "         VehModel VehPriceLabel  \\\n",
       "0  Grand Cherokee    Fair Price   \n",
       "1             XT5     Good Deal   \n",
       "2  Grand Cherokee     Good Deal   \n",
       "3  Grand Cherokee     Good Deal   \n",
       "4             XT5     Good Deal   \n",
       "\n",
       "                                      VehSellerNotes VehType  \\\n",
       "0                                                NaN    Used   \n",
       "1  Come take a look at our great pre-owned invent...    Used   \n",
       "2  Backed by a rigorous 125-point inspection by f...    Used   \n",
       "3  Drop by to see us and you will quickly see how...    Used   \n",
       "4  Luxury, Exterior Parking Camera Rear, Front Du...    Used   \n",
       "\n",
       "          VehTransmission VehYear   Vehicle_Trim Dealer_Listing_Price  \n",
       "0       Automatic 8-Speed    2015  High Altitude              30990.0  \n",
       "1                     NaN    2017            NaN              34860.0  \n",
       "2  8-Speed Automatic w/OD    2015         Laredo              23249.0  \n",
       "3               Automatic    2018        Limited              31977.0  \n",
       "4       8-Speed Automatic    2018         Luxury              33495.0  \n",
       "\n",
       "[5 rows x 29 columns]"
      ]
     },
     "execution_count": 3,
     "metadata": {},
     "output_type": "execute_result"
    }
   ],
   "source": [
    "Training_df.head(5)"
   ]
  },
  {
   "cell_type": "code",
   "execution_count": 4,
   "id": "c0e9298f",
   "metadata": {},
   "outputs": [
    {
     "data": {
      "text/plain": [
       "(6298, 29)"
      ]
     },
     "execution_count": 4,
     "metadata": {},
     "output_type": "execute_result"
    }
   ],
   "source": [
    "Training_df.shape"
   ]
  },
  {
   "cell_type": "markdown",
   "id": "f86a4554",
   "metadata": {},
   "source": [
    "It is possible to see that the Training Data Set contains 29 columns and 6298 data points. Out of those 29 columns, 2 are the `target` variables."
   ]
  },
  {
   "cell_type": "markdown",
   "id": "3f32db60",
   "metadata": {},
   "source": [
    "### Testing Dataset"
   ]
  },
  {
   "cell_type": "code",
   "execution_count": 5,
   "id": "c4d1788e",
   "metadata": {},
   "outputs": [
    {
     "data": {
      "text/html": [
       "<div>\n",
       "<style scoped>\n",
       "    .dataframe tbody tr th:only-of-type {\n",
       "        vertical-align: middle;\n",
       "    }\n",
       "\n",
       "    .dataframe tbody tr th {\n",
       "        vertical-align: top;\n",
       "    }\n",
       "\n",
       "    .dataframe thead th {\n",
       "        text-align: right;\n",
       "    }\n",
       "</style>\n",
       "<table border=\"1\" class=\"dataframe\">\n",
       "  <thead>\n",
       "    <tr style=\"text-align: right;\">\n",
       "      <th></th>\n",
       "      <th>ListingID</th>\n",
       "      <th>SellerCity</th>\n",
       "      <th>SellerIsPriv</th>\n",
       "      <th>SellerListSrc</th>\n",
       "      <th>SellerName</th>\n",
       "      <th>SellerRating</th>\n",
       "      <th>SellerRevCnt</th>\n",
       "      <th>SellerState</th>\n",
       "      <th>SellerZip</th>\n",
       "      <th>VehBodystyle</th>\n",
       "      <th>...</th>\n",
       "      <th>VehHistory</th>\n",
       "      <th>VehListdays</th>\n",
       "      <th>VehMake</th>\n",
       "      <th>VehMileage</th>\n",
       "      <th>VehModel</th>\n",
       "      <th>VehPriceLabel</th>\n",
       "      <th>VehSellerNotes</th>\n",
       "      <th>VehType</th>\n",
       "      <th>VehTransmission</th>\n",
       "      <th>VehYear</th>\n",
       "    </tr>\n",
       "  </thead>\n",
       "  <tbody>\n",
       "    <tr>\n",
       "      <th>0</th>\n",
       "      <td>8622015</td>\n",
       "      <td>Seneca</td>\n",
       "      <td>False</td>\n",
       "      <td>HomeNet Automotive</td>\n",
       "      <td>Lake Keowee Chrysler Dodge Jeep Ram</td>\n",
       "      <td>2.5</td>\n",
       "      <td>59</td>\n",
       "      <td>SC</td>\n",
       "      <td>29678</td>\n",
       "      <td>SUV</td>\n",
       "      <td>...</td>\n",
       "      <td>1 Owner, Non-Personal Use Reported, Buyback Pr...</td>\n",
       "      <td>143.991262</td>\n",
       "      <td>Cadillac</td>\n",
       "      <td>13625.0</td>\n",
       "      <td>XT5</td>\n",
       "      <td>Good Deal</td>\n",
       "      <td>Thank you for visiting another one of Lake Keo...</td>\n",
       "      <td>Used</td>\n",
       "      <td>8-Speed Automatic</td>\n",
       "      <td>2018</td>\n",
       "    </tr>\n",
       "    <tr>\n",
       "      <th>1</th>\n",
       "      <td>8625693</td>\n",
       "      <td>Bedford</td>\n",
       "      <td>False</td>\n",
       "      <td>Inventory Command Center</td>\n",
       "      <td>North Coast Auto Mall</td>\n",
       "      <td>4.7</td>\n",
       "      <td>2116</td>\n",
       "      <td>OH</td>\n",
       "      <td>44146</td>\n",
       "      <td>SUV</td>\n",
       "      <td>...</td>\n",
       "      <td>1 Owner, Accident(s) Reported, Non-Personal Us...</td>\n",
       "      <td>138.770486</td>\n",
       "      <td>Jeep</td>\n",
       "      <td>42553.0</td>\n",
       "      <td>Grand Cherokee</td>\n",
       "      <td>Good Deal</td>\n",
       "      <td>This 2017 Jeep Grand Cherokee 4dr Limited 4x4 ...</td>\n",
       "      <td>Used</td>\n",
       "      <td>8-Speed Automatic</td>\n",
       "      <td>2017</td>\n",
       "    </tr>\n",
       "    <tr>\n",
       "      <th>2</th>\n",
       "      <td>8625750</td>\n",
       "      <td>Webster</td>\n",
       "      <td>False</td>\n",
       "      <td>Jeep Certified Program</td>\n",
       "      <td>Marina Chrysler Dodge Jeep Mitsubishi RAM</td>\n",
       "      <td>3.9</td>\n",
       "      <td>46</td>\n",
       "      <td>NY</td>\n",
       "      <td>14580</td>\n",
       "      <td>SUV</td>\n",
       "      <td>...</td>\n",
       "      <td>1 Owner, Buyback Protection Eligible</td>\n",
       "      <td>31.951088</td>\n",
       "      <td>Jeep</td>\n",
       "      <td>48951.0</td>\n",
       "      <td>Grand Cherokee</td>\n",
       "      <td>Good Deal</td>\n",
       "      <td>Certified. Brilliant Black Crystal Pearlcoat 2...</td>\n",
       "      <td>Used</td>\n",
       "      <td>8-Speed Automatic</td>\n",
       "      <td>2015</td>\n",
       "    </tr>\n",
       "    <tr>\n",
       "      <th>3</th>\n",
       "      <td>8626885</td>\n",
       "      <td>Louisville</td>\n",
       "      <td>False</td>\n",
       "      <td>Digital Motorworks (DMi)</td>\n",
       "      <td>Oxmoor Ford Lincoln</td>\n",
       "      <td>4.5</td>\n",
       "      <td>1075</td>\n",
       "      <td>KY</td>\n",
       "      <td>40222</td>\n",
       "      <td>SUV</td>\n",
       "      <td>...</td>\n",
       "      <td>1 Owner, Buyback Protection Eligible</td>\n",
       "      <td>5.950127</td>\n",
       "      <td>Jeep</td>\n",
       "      <td>44179.0</td>\n",
       "      <td>Grand Cherokee</td>\n",
       "      <td>Good Deal</td>\n",
       "      <td>2015 Jeep Grand Cherokee ***THIS VEHICLE IS AT...</td>\n",
       "      <td>Used</td>\n",
       "      <td>8-Speed Automatic</td>\n",
       "      <td>2015</td>\n",
       "    </tr>\n",
       "    <tr>\n",
       "      <th>4</th>\n",
       "      <td>8627430</td>\n",
       "      <td>Palmyra</td>\n",
       "      <td>False</td>\n",
       "      <td>Digital Motorworks (DMi)</td>\n",
       "      <td>F.C. Kerbeck &amp;amp; Sons</td>\n",
       "      <td>4.6</td>\n",
       "      <td>162</td>\n",
       "      <td>NJ</td>\n",
       "      <td>8065</td>\n",
       "      <td>SUV</td>\n",
       "      <td>...</td>\n",
       "      <td>1 Owner, Non-Personal Use Reported, Buyback Pr...</td>\n",
       "      <td>24.672986</td>\n",
       "      <td>Cadillac</td>\n",
       "      <td>22269.0</td>\n",
       "      <td>XT5</td>\n",
       "      <td>Good Deal</td>\n",
       "      <td>AWD, CarFax One Owner! Navigation, Back-up Cam...</td>\n",
       "      <td>Used</td>\n",
       "      <td>8-Speed Automatic</td>\n",
       "      <td>2018</td>\n",
       "    </tr>\n",
       "  </tbody>\n",
       "</table>\n",
       "<p>5 rows × 27 columns</p>\n",
       "</div>"
      ],
      "text/plain": [
       "   ListingID  SellerCity  SellerIsPriv             SellerListSrc  \\\n",
       "0    8622015      Seneca         False        HomeNet Automotive   \n",
       "1    8625693     Bedford         False  Inventory Command Center   \n",
       "2    8625750     Webster         False    Jeep Certified Program   \n",
       "3    8626885  Louisville         False  Digital Motorworks (DMi)   \n",
       "4    8627430     Palmyra         False  Digital Motorworks (DMi)   \n",
       "\n",
       "                                  SellerName  SellerRating  SellerRevCnt  \\\n",
       "0        Lake Keowee Chrysler Dodge Jeep Ram           2.5            59   \n",
       "1                      North Coast Auto Mall           4.7          2116   \n",
       "2  Marina Chrysler Dodge Jeep Mitsubishi RAM           3.9            46   \n",
       "3                        Oxmoor Ford Lincoln           4.5          1075   \n",
       "4                    F.C. Kerbeck &amp; Sons           4.6           162   \n",
       "\n",
       "  SellerState  SellerZip VehBodystyle  ...  \\\n",
       "0          SC      29678          SUV  ...   \n",
       "1          OH      44146          SUV  ...   \n",
       "2          NY      14580          SUV  ...   \n",
       "3          KY      40222          SUV  ...   \n",
       "4          NJ       8065          SUV  ...   \n",
       "\n",
       "                                          VehHistory VehListdays   VehMake  \\\n",
       "0  1 Owner, Non-Personal Use Reported, Buyback Pr...  143.991262  Cadillac   \n",
       "1  1 Owner, Accident(s) Reported, Non-Personal Us...  138.770486      Jeep   \n",
       "2               1 Owner, Buyback Protection Eligible   31.951088      Jeep   \n",
       "3               1 Owner, Buyback Protection Eligible    5.950127      Jeep   \n",
       "4  1 Owner, Non-Personal Use Reported, Buyback Pr...   24.672986  Cadillac   \n",
       "\n",
       "  VehMileage        VehModel VehPriceLabel  \\\n",
       "0    13625.0             XT5     Good Deal   \n",
       "1    42553.0  Grand Cherokee     Good Deal   \n",
       "2    48951.0  Grand Cherokee     Good Deal   \n",
       "3    44179.0  Grand Cherokee     Good Deal   \n",
       "4    22269.0             XT5     Good Deal   \n",
       "\n",
       "                                      VehSellerNotes VehType  \\\n",
       "0  Thank you for visiting another one of Lake Keo...    Used   \n",
       "1  This 2017 Jeep Grand Cherokee 4dr Limited 4x4 ...    Used   \n",
       "2  Certified. Brilliant Black Crystal Pearlcoat 2...    Used   \n",
       "3  2015 Jeep Grand Cherokee ***THIS VEHICLE IS AT...    Used   \n",
       "4  AWD, CarFax One Owner! Navigation, Back-up Cam...    Used   \n",
       "\n",
       "     VehTransmission VehYear  \n",
       "0  8-Speed Automatic    2018  \n",
       "1  8-Speed Automatic    2017  \n",
       "2  8-Speed Automatic    2015  \n",
       "3  8-Speed Automatic    2015  \n",
       "4  8-Speed Automatic    2018  \n",
       "\n",
       "[5 rows x 27 columns]"
      ]
     },
     "execution_count": 5,
     "metadata": {},
     "output_type": "execute_result"
    }
   ],
   "source": [
    "Test_df.head(5)"
   ]
  },
  {
   "cell_type": "code",
   "execution_count": 6,
   "id": "ec6507a4",
   "metadata": {},
   "outputs": [
    {
     "data": {
      "text/plain": [
       "(1000, 27)"
      ]
     },
     "execution_count": 6,
     "metadata": {},
     "output_type": "execute_result"
    }
   ],
   "source": [
    "Test_df.shape"
   ]
  },
  {
   "cell_type": "markdown",
   "id": "2fd13b2b",
   "metadata": {},
   "source": [
    "It is possible to see that the Training Dataset contains 27 columns and 1000 data points, this since the 2 `target` variables were removed from the dataset."
   ]
  },
  {
   "cell_type": "markdown",
   "id": "70b63380",
   "metadata": {},
   "source": [
    "### General Exploration"
   ]
  },
  {
   "cell_type": "code",
   "execution_count": 7,
   "id": "7ff54a0b",
   "metadata": {},
   "outputs": [
    {
     "data": {
      "text/plain": [
       "ListingID                 int64\n",
       "SellerCity               object\n",
       "SellerIsPriv               bool\n",
       "SellerListSrc            object\n",
       "SellerName               object\n",
       "SellerRating            float64\n",
       "SellerRevCnt              int64\n",
       "SellerState              object\n",
       "SellerZip               float64\n",
       "VehBodystyle             object\n",
       "VehCertified               bool\n",
       "VehColorExt              object\n",
       "VehColorInt              object\n",
       "VehDriveTrain            object\n",
       "VehEngine                object\n",
       "VehFeats                 object\n",
       "VehFuel                  object\n",
       "VehHistory               object\n",
       "VehListdays             float64\n",
       "VehMake                  object\n",
       "VehMileage              float64\n",
       "VehModel                 object\n",
       "VehPriceLabel            object\n",
       "VehSellerNotes           object\n",
       "VehType                  object\n",
       "VehTransmission          object\n",
       "VehYear                   int64\n",
       "Vehicle_Trim             object\n",
       "Dealer_Listing_Price    float64\n",
       "dtype: object"
      ]
     },
     "execution_count": 7,
     "metadata": {},
     "output_type": "execute_result"
    }
   ],
   "source": [
    "Training_df.dtypes"
   ]
  },
  {
   "cell_type": "markdown",
   "id": "e0842931",
   "metadata": {},
   "source": [
    "Looking at the data, the type distribution is as follows:\n",
    "- 8 Numerical Variables (6 `float64` & 2 `int64`)\n",
    "- 2 Boolean Variables (`bool`)\n",
    "- 19 Categorical Variables (`object`)"
   ]
  },
  {
   "cell_type": "markdown",
   "id": "92094b6e",
   "metadata": {},
   "source": [
    "### Distribution of the Target Variable (`Price` & `Vehicle Trim`)"
   ]
  },
  {
   "cell_type": "code",
   "execution_count": 8,
   "id": "cade5172",
   "metadata": {},
   "outputs": [
    {
     "data": {
      "image/png": "[encoded data removed]",
      "text/plain": [
       "<Figure size 720x288 with 1 Axes>"
      ]
     },
     "metadata": {
      "needs_background": "light"
     },
     "output_type": "display_data"
    }
   ],
   "source": [
    "Training_df['Dealer_Listing_Price'].hist(figsize = (10,4))\n",
    "plt.xlabel('Dealer Price', fontsize = 20)\n",
    "plt.ylabel('Frequency',fontsize = 20)\n",
    "plt.title('Dealer Listing Price', fontsize = 20)\n",
    "plt.tick_params(axis=\"x\", labelsize=15)\n",
    "plt.tick_params(axis=\"y\", labelsize=15)\n",
    "plt.grid(True)\n",
    "plt.show()"
   ]
  },
  {
   "cell_type": "code",
   "execution_count": 9,
   "id": "b4d8dc38",
   "metadata": {},
   "outputs": [
    {
     "data": {
      "image/png": "[encoded data removed]",
      "text/plain": [
       "<Figure size 720x288 with 1 Axes>"
      ]
     },
     "metadata": {
      "needs_background": "light"
     },
     "output_type": "display_data"
    }
   ],
   "source": [
    "Training_df['Vehicle_Trim'].hist(figsize = (10,4))\n",
    "plt.ylabel('Frequency',fontsize = 20)\n",
    "plt.title('Vehicle Trim', fontsize = 20)\n",
    "plt.tick_params(axis=\"x\", labelsize=10, rotation=90)\n",
    "plt.tick_params(axis=\"y\", labelsize=15)\n",
    "plt.grid(True)\n",
    "plt.show()"
   ]
  },
  {
   "cell_type": "markdown",
   "id": "511bba70",
   "metadata": {},
   "source": [
    "###  Distribution of Numerical Variables"
   ]
  },
  {
   "cell_type": "code",
   "execution_count": 10,
   "id": "e078f26c",
   "metadata": {},
   "outputs": [],
   "source": [
    "numeric_columns = ['SellerRating', 'SellerRevCnt', 'VehListdays', 'VehMileage', 'VehYear']"
   ]
  },
  {
   "cell_type": "code",
   "execution_count": 11,
   "id": "fcf070ba",
   "metadata": {},
   "outputs": [],
   "source": [
    "def hist_plot(df,a):\n",
    "    df[a].hist(figsize = (8,3))\n",
    "    plt.xlabel(a, fontsize = 15)\n",
    "    plt.ylabel('Frequency',fontsize = 15)\n",
    "    plt.tick_params(axis=\"x\", labelsize=10)\n",
    "    plt.tick_params(axis=\"y\", labelsize=10)\n",
    "    plt.grid(True)\n",
    "    plt.show()"
   ]
  },
  {
   "cell_type": "code",
   "execution_count": 12,
   "id": "6ba674d1",
   "metadata": {},
   "outputs": [
    {
     "data": {
      "image/png": "[encoded data removed]",
      "text/plain": [
       "<Figure size 576x216 with 1 Axes>"
      ]
     },
     "metadata": {
      "needs_background": "light"
     },
     "output_type": "display_data"
    },
    {
     "data": {
      "image/png": "[encoded data removed]",
      "text/plain": [
       "<Figure size 576x216 with 1 Axes>"
      ]
     },
     "metadata": {
      "needs_background": "light"
     },
     "output_type": "display_data"
    },
    {
     "data": {
      "image/png": "[encoded data removed]",
      "text/plain": [
       "<Figure size 576x216 with 1 Axes>"
      ]
     },
     "metadata": {
      "needs_background": "light"
     },
     "output_type": "display_data"
    },
    {
     "data": {
      "image/png": "[encoded data removed]",
      "text/plain": [
       "<Figure size 576x216 with 1 Axes>"
      ]
     },
     "metadata": {
      "needs_background": "light"
     },
     "output_type": "display_data"
    },
    {
     "data": {
      "image/png": "[encoded data removed]",
      "text/plain": [
       "<Figure size 576x216 with 1 Axes>"
      ]
     },
     "metadata": {
      "needs_background": "light"
     },
     "output_type": "display_data"
    }
   ],
   "source": [
    "for i in numeric_columns:\n",
    "    hist_plot(Training_df, i)"
   ]
  },
  {
   "cell_type": "code",
   "execution_count": 13,
   "id": "3747b35a",
   "metadata": {},
   "outputs": [
    {
     "data": {
      "image/png": "[encoded data removed]",
      "text/plain": [
       "<Figure size 432x288 with 1 Axes>"
      ]
     },
     "metadata": {
      "needs_background": "light"
     },
     "output_type": "display_data"
    }
   ],
   "source": [
    "plt.scatter(Training_df['SellerZip'], Training_df['Dealer_Listing_Price'])\n",
    "plt.title('Price Vs Zipcode', fontsize = 15)\n",
    "plt.xlabel('Zipcode', fontsize = 12)\n",
    "plt.ylabel('Price', fontsize = 12)\n",
    "plt.grid()\n",
    "plt.show()"
   ]
  },
  {
   "cell_type": "markdown",
   "id": "5187b3cf",
   "metadata": {},
   "source": [
    "It seems zipcode does not provide a clear difference in reference to the `Price` target variable."
   ]
  },
  {
   "cell_type": "markdown",
   "id": "be6a0245",
   "metadata": {},
   "source": [
    "### Categorical Variables"
   ]
  },
  {
   "cell_type": "code",
   "execution_count": 14,
   "id": "f8088f4a",
   "metadata": {},
   "outputs": [],
   "source": [
    "list_of_types = Training_df.dtypes.tolist()\n",
    "variables = Training_df.columns.tolist()\n",
    "\n",
    "categorical = []\n",
    "others = []\n",
    "\n",
    "for i in range(len(variables)):\n",
    "    if list_of_types[i] == 'O':\n",
    "        categorical.append(variables[i])\n",
    "    else:\n",
    "        others.append(variables[i])"
   ]
  },
  {
   "cell_type": "code",
   "execution_count": 15,
   "id": "3359290b",
   "metadata": {
    "scrolled": false
   },
   "outputs": [],
   "source": [
    "unique_categorical = []\n",
    "for i in categorical:\n",
    "    number_of_categories = len(pd.unique(Training_df[i]))\n",
    "    unique_categorical.append(number_of_categories)"
   ]
  },
  {
   "cell_type": "markdown",
   "id": "9b0a30a4",
   "metadata": {},
   "source": [
    "#### Unique Values in Training Dataset"
   ]
  },
  {
   "cell_type": "code",
   "execution_count": 16,
   "id": "f9cb43fe",
   "metadata": {},
   "outputs": [
    {
     "data": {
      "text/html": [
       "<div>\n",
       "<style scoped>\n",
       "    .dataframe tbody tr th:only-of-type {\n",
       "        vertical-align: middle;\n",
       "    }\n",
       "\n",
       "    .dataframe tbody tr th {\n",
       "        vertical-align: top;\n",
       "    }\n",
       "\n",
       "    .dataframe thead th {\n",
       "        text-align: right;\n",
       "    }\n",
       "</style>\n",
       "<table border=\"1\" class=\"dataframe\">\n",
       "  <thead>\n",
       "    <tr style=\"text-align: right;\">\n",
       "      <th></th>\n",
       "      <th>Categorical Variable</th>\n",
       "      <th>Number Of Unique Values</th>\n",
       "    </tr>\n",
       "  </thead>\n",
       "  <tbody>\n",
       "    <tr>\n",
       "      <th>0</th>\n",
       "      <td>SellerCity</td>\n",
       "      <td>1318</td>\n",
       "    </tr>\n",
       "    <tr>\n",
       "      <th>1</th>\n",
       "      <td>SellerListSrc</td>\n",
       "      <td>9</td>\n",
       "    </tr>\n",
       "    <tr>\n",
       "      <th>2</th>\n",
       "      <td>SellerName</td>\n",
       "      <td>2452</td>\n",
       "    </tr>\n",
       "    <tr>\n",
       "      <th>3</th>\n",
       "      <td>SellerState</td>\n",
       "      <td>50</td>\n",
       "    </tr>\n",
       "    <tr>\n",
       "      <th>4</th>\n",
       "      <td>VehBodystyle</td>\n",
       "      <td>1</td>\n",
       "    </tr>\n",
       "    <tr>\n",
       "      <th>5</th>\n",
       "      <td>VehColorExt</td>\n",
       "      <td>170</td>\n",
       "    </tr>\n",
       "    <tr>\n",
       "      <th>6</th>\n",
       "      <td>VehColorInt</td>\n",
       "      <td>107</td>\n",
       "    </tr>\n",
       "    <tr>\n",
       "      <th>7</th>\n",
       "      <td>VehDriveTrain</td>\n",
       "      <td>21</td>\n",
       "    </tr>\n",
       "    <tr>\n",
       "      <th>8</th>\n",
       "      <td>VehEngine</td>\n",
       "      <td>97</td>\n",
       "    </tr>\n",
       "    <tr>\n",
       "      <th>9</th>\n",
       "      <td>VehFeats</td>\n",
       "      <td>844</td>\n",
       "    </tr>\n",
       "    <tr>\n",
       "      <th>10</th>\n",
       "      <td>VehFuel</td>\n",
       "      <td>5</td>\n",
       "    </tr>\n",
       "    <tr>\n",
       "      <th>11</th>\n",
       "      <td>VehHistory</td>\n",
       "      <td>34</td>\n",
       "    </tr>\n",
       "    <tr>\n",
       "      <th>12</th>\n",
       "      <td>VehMake</td>\n",
       "      <td>2</td>\n",
       "    </tr>\n",
       "    <tr>\n",
       "      <th>13</th>\n",
       "      <td>VehModel</td>\n",
       "      <td>2</td>\n",
       "    </tr>\n",
       "    <tr>\n",
       "      <th>14</th>\n",
       "      <td>VehPriceLabel</td>\n",
       "      <td>4</td>\n",
       "    </tr>\n",
       "    <tr>\n",
       "      <th>15</th>\n",
       "      <td>VehSellerNotes</td>\n",
       "      <td>4921</td>\n",
       "    </tr>\n",
       "    <tr>\n",
       "      <th>16</th>\n",
       "      <td>VehType</td>\n",
       "      <td>1</td>\n",
       "    </tr>\n",
       "    <tr>\n",
       "      <th>17</th>\n",
       "      <td>VehTransmission</td>\n",
       "      <td>34</td>\n",
       "    </tr>\n",
       "    <tr>\n",
       "      <th>18</th>\n",
       "      <td>Vehicle_Trim</td>\n",
       "      <td>30</td>\n",
       "    </tr>\n",
       "  </tbody>\n",
       "</table>\n",
       "</div>"
      ],
      "text/plain": [
       "   Categorical Variable  Number Of Unique Values\n",
       "0            SellerCity                     1318\n",
       "1         SellerListSrc                        9\n",
       "2            SellerName                     2452\n",
       "3           SellerState                       50\n",
       "4          VehBodystyle                        1\n",
       "5           VehColorExt                      170\n",
       "6           VehColorInt                      107\n",
       "7         VehDriveTrain                       21\n",
       "8             VehEngine                       97\n",
       "9              VehFeats                      844\n",
       "10              VehFuel                        5\n",
       "11           VehHistory                       34\n",
       "12              VehMake                        2\n",
       "13             VehModel                        2\n",
       "14        VehPriceLabel                        4\n",
       "15       VehSellerNotes                     4921\n",
       "16              VehType                        1\n",
       "17      VehTransmission                       34\n",
       "18         Vehicle_Trim                       30"
      ]
     },
     "execution_count": 16,
     "metadata": {},
     "output_type": "execute_result"
    }
   ],
   "source": [
    "unique_categorical_df = pd.DataFrame()\n",
    "unique_categorical_df['Categorical Variable'] = categorical\n",
    "unique_categorical_df['Number Of Unique Values'] = unique_categorical\n",
    "unique_categorical_df"
   ]
  },
  {
   "cell_type": "markdown",
   "id": "433c8467",
   "metadata": {},
   "source": [
    "Here we an see that some categories/columns have values that are very unique as `VehSellerNotes` (which makes sense as these are notes from the seller) and other categories have very unique as `VehType` & `VehBodyStyle` with just one value."
   ]
  },
  {
   "cell_type": "markdown",
   "id": "2bd961a8",
   "metadata": {},
   "source": [
    "## Data Formatting (Training Dataset & Testing Dataset)"
   ]
  },
  {
   "cell_type": "markdown",
   "id": "c24b0cab",
   "metadata": {},
   "source": [
    "### Missing Values"
   ]
  },
  {
   "cell_type": "code",
   "execution_count": 17,
   "id": "d9757813",
   "metadata": {},
   "outputs": [],
   "source": [
    "def missing_values(data):\n",
    "    #columns = data.columns.to_list()\n",
    "    missing_values = []\n",
    "    my_list = data.columns.values.tolist()\n",
    "    y = data.shape\n",
    "    for i in my_list:\n",
    "        x = data[i].isnull().sum()\n",
    "        missing_values.append(x)\n",
    "\n",
    "    columns_missing = dict(zip(my_list, missing_values))\n",
    "    a = sorted(columns_missing.items(), key=lambda x: x[1], reverse = True)  \n",
    "\n",
    "    missing_columns_names = []\n",
    "    for key, value in columns_missing.items():\n",
    "        if value > 0: \n",
    "            x = key\n",
    "            missing_columns_names.append(x)\n",
    "    return columns_missing, missing_columns_names"
   ]
  },
  {
   "cell_type": "code",
   "execution_count": 18,
   "id": "61becabf",
   "metadata": {},
   "outputs": [],
   "source": [
    "#Training Data\n",
    "dic_missing, missing_columns_names = missing_values(Training_df)\n",
    "\n",
    "#Testing Data\n",
    "dic_missing_test, missing_columns_names_test = missing_values(Test_df)"
   ]
  },
  {
   "cell_type": "code",
   "execution_count": 19,
   "id": "6066bf8b",
   "metadata": {
    "scrolled": false
   },
   "outputs": [
    {
     "data": {
      "text/html": [
       "<div>\n",
       "<style scoped>\n",
       "    .dataframe tbody tr th:only-of-type {\n",
       "        vertical-align: middle;\n",
       "    }\n",
       "\n",
       "    .dataframe tbody tr th {\n",
       "        vertical-align: top;\n",
       "    }\n",
       "\n",
       "    .dataframe thead th {\n",
       "        text-align: right;\n",
       "    }\n",
       "</style>\n",
       "<table border=\"1\" class=\"dataframe\">\n",
       "  <thead>\n",
       "    <tr style=\"text-align: right;\">\n",
       "      <th></th>\n",
       "      <th>Variable</th>\n",
       "      <th>Number Of Missing Variables</th>\n",
       "    </tr>\n",
       "  </thead>\n",
       "  <tbody>\n",
       "    <tr>\n",
       "      <th>0</th>\n",
       "      <td>ListingID</td>\n",
       "      <td>0</td>\n",
       "    </tr>\n",
       "    <tr>\n",
       "      <th>1</th>\n",
       "      <td>SellerCity</td>\n",
       "      <td>0</td>\n",
       "    </tr>\n",
       "    <tr>\n",
       "      <th>2</th>\n",
       "      <td>SellerIsPriv</td>\n",
       "      <td>0</td>\n",
       "    </tr>\n",
       "    <tr>\n",
       "      <th>3</th>\n",
       "      <td>SellerListSrc</td>\n",
       "      <td>2</td>\n",
       "    </tr>\n",
       "    <tr>\n",
       "      <th>4</th>\n",
       "      <td>SellerName</td>\n",
       "      <td>0</td>\n",
       "    </tr>\n",
       "    <tr>\n",
       "      <th>5</th>\n",
       "      <td>SellerRating</td>\n",
       "      <td>0</td>\n",
       "    </tr>\n",
       "    <tr>\n",
       "      <th>6</th>\n",
       "      <td>SellerRevCnt</td>\n",
       "      <td>0</td>\n",
       "    </tr>\n",
       "    <tr>\n",
       "      <th>7</th>\n",
       "      <td>SellerState</td>\n",
       "      <td>0</td>\n",
       "    </tr>\n",
       "    <tr>\n",
       "      <th>8</th>\n",
       "      <td>SellerZip</td>\n",
       "      <td>2</td>\n",
       "    </tr>\n",
       "    <tr>\n",
       "      <th>9</th>\n",
       "      <td>VehBodystyle</td>\n",
       "      <td>0</td>\n",
       "    </tr>\n",
       "    <tr>\n",
       "      <th>10</th>\n",
       "      <td>VehCertified</td>\n",
       "      <td>0</td>\n",
       "    </tr>\n",
       "    <tr>\n",
       "      <th>11</th>\n",
       "      <td>VehColorExt</td>\n",
       "      <td>73</td>\n",
       "    </tr>\n",
       "    <tr>\n",
       "      <th>12</th>\n",
       "      <td>VehColorInt</td>\n",
       "      <td>728</td>\n",
       "    </tr>\n",
       "    <tr>\n",
       "      <th>13</th>\n",
       "      <td>VehDriveTrain</td>\n",
       "      <td>401</td>\n",
       "    </tr>\n",
       "    <tr>\n",
       "      <th>14</th>\n",
       "      <td>VehEngine</td>\n",
       "      <td>361</td>\n",
       "    </tr>\n",
       "    <tr>\n",
       "      <th>15</th>\n",
       "      <td>VehFeats</td>\n",
       "      <td>275</td>\n",
       "    </tr>\n",
       "    <tr>\n",
       "      <th>16</th>\n",
       "      <td>VehFuel</td>\n",
       "      <td>2</td>\n",
       "    </tr>\n",
       "    <tr>\n",
       "      <th>17</th>\n",
       "      <td>VehHistory</td>\n",
       "      <td>201</td>\n",
       "    </tr>\n",
       "    <tr>\n",
       "      <th>18</th>\n",
       "      <td>VehListdays</td>\n",
       "      <td>2</td>\n",
       "    </tr>\n",
       "    <tr>\n",
       "      <th>19</th>\n",
       "      <td>VehMake</td>\n",
       "      <td>0</td>\n",
       "    </tr>\n",
       "    <tr>\n",
       "      <th>20</th>\n",
       "      <td>VehMileage</td>\n",
       "      <td>2</td>\n",
       "    </tr>\n",
       "    <tr>\n",
       "      <th>21</th>\n",
       "      <td>VehModel</td>\n",
       "      <td>0</td>\n",
       "    </tr>\n",
       "    <tr>\n",
       "      <th>22</th>\n",
       "      <td>VehPriceLabel</td>\n",
       "      <td>285</td>\n",
       "    </tr>\n",
       "    <tr>\n",
       "      <th>23</th>\n",
       "      <td>VehSellerNotes</td>\n",
       "      <td>243</td>\n",
       "    </tr>\n",
       "    <tr>\n",
       "      <th>24</th>\n",
       "      <td>VehType</td>\n",
       "      <td>0</td>\n",
       "    </tr>\n",
       "    <tr>\n",
       "      <th>25</th>\n",
       "      <td>VehTransmission</td>\n",
       "      <td>197</td>\n",
       "    </tr>\n",
       "    <tr>\n",
       "      <th>26</th>\n",
       "      <td>VehYear</td>\n",
       "      <td>0</td>\n",
       "    </tr>\n",
       "    <tr>\n",
       "      <th>27</th>\n",
       "      <td>Vehicle_Trim</td>\n",
       "      <td>405</td>\n",
       "    </tr>\n",
       "    <tr>\n",
       "      <th>28</th>\n",
       "      <td>Dealer_Listing_Price</td>\n",
       "      <td>52</td>\n",
       "    </tr>\n",
       "  </tbody>\n",
       "</table>\n",
       "</div>"
      ],
      "text/plain": [
       "                Variable  Number Of Missing Variables\n",
       "0              ListingID                            0\n",
       "1             SellerCity                            0\n",
       "2           SellerIsPriv                            0\n",
       "3          SellerListSrc                            2\n",
       "4             SellerName                            0\n",
       "5           SellerRating                            0\n",
       "6           SellerRevCnt                            0\n",
       "7            SellerState                            0\n",
       "8              SellerZip                            2\n",
       "9           VehBodystyle                            0\n",
       "10          VehCertified                            0\n",
       "11           VehColorExt                           73\n",
       "12           VehColorInt                          728\n",
       "13         VehDriveTrain                          401\n",
       "14             VehEngine                          361\n",
       "15              VehFeats                          275\n",
       "16               VehFuel                            2\n",
       "17            VehHistory                          201\n",
       "18           VehListdays                            2\n",
       "19               VehMake                            0\n",
       "20            VehMileage                            2\n",
       "21              VehModel                            0\n",
       "22         VehPriceLabel                          285\n",
       "23        VehSellerNotes                          243\n",
       "24               VehType                            0\n",
       "25       VehTransmission                          197\n",
       "26               VehYear                            0\n",
       "27          Vehicle_Trim                          405\n",
       "28  Dealer_Listing_Price                           52"
      ]
     },
     "execution_count": 19,
     "metadata": {},
     "output_type": "execute_result"
    }
   ],
   "source": [
    "missing_training_df = pd.DataFrame()\n",
    "missing_training_df['Variable'] = Training_df.columns.values.tolist()\n",
    "missing_training_df['Number Of Missing Variables'] = dic_missing.values()\n",
    "missing_training_df"
   ]
  },
  {
   "cell_type": "markdown",
   "id": "b2983444",
   "metadata": {},
   "source": [
    "Looking at the Train Dataset we can see that there are some columns with more than 10% (`VehColorInt`) of missing data points."
   ]
  },
  {
   "cell_type": "code",
   "execution_count": 20,
   "id": "cfb495bc",
   "metadata": {
    "scrolled": false
   },
   "outputs": [
    {
     "data": {
      "text/html": [
       "<div>\n",
       "<style scoped>\n",
       "    .dataframe tbody tr th:only-of-type {\n",
       "        vertical-align: middle;\n",
       "    }\n",
       "\n",
       "    .dataframe tbody tr th {\n",
       "        vertical-align: top;\n",
       "    }\n",
       "\n",
       "    .dataframe thead th {\n",
       "        text-align: right;\n",
       "    }\n",
       "</style>\n",
       "<table border=\"1\" class=\"dataframe\">\n",
       "  <thead>\n",
       "    <tr style=\"text-align: right;\">\n",
       "      <th></th>\n",
       "      <th>Variable</th>\n",
       "      <th>Number Of Missing Variables</th>\n",
       "    </tr>\n",
       "  </thead>\n",
       "  <tbody>\n",
       "    <tr>\n",
       "      <th>0</th>\n",
       "      <td>ListingID</td>\n",
       "      <td>0</td>\n",
       "    </tr>\n",
       "    <tr>\n",
       "      <th>1</th>\n",
       "      <td>SellerCity</td>\n",
       "      <td>0</td>\n",
       "    </tr>\n",
       "    <tr>\n",
       "      <th>2</th>\n",
       "      <td>SellerIsPriv</td>\n",
       "      <td>0</td>\n",
       "    </tr>\n",
       "    <tr>\n",
       "      <th>3</th>\n",
       "      <td>SellerListSrc</td>\n",
       "      <td>0</td>\n",
       "    </tr>\n",
       "    <tr>\n",
       "      <th>4</th>\n",
       "      <td>SellerName</td>\n",
       "      <td>0</td>\n",
       "    </tr>\n",
       "    <tr>\n",
       "      <th>5</th>\n",
       "      <td>SellerRating</td>\n",
       "      <td>0</td>\n",
       "    </tr>\n",
       "    <tr>\n",
       "      <th>6</th>\n",
       "      <td>SellerRevCnt</td>\n",
       "      <td>0</td>\n",
       "    </tr>\n",
       "    <tr>\n",
       "      <th>7</th>\n",
       "      <td>SellerState</td>\n",
       "      <td>0</td>\n",
       "    </tr>\n",
       "    <tr>\n",
       "      <th>8</th>\n",
       "      <td>SellerZip</td>\n",
       "      <td>0</td>\n",
       "    </tr>\n",
       "    <tr>\n",
       "      <th>9</th>\n",
       "      <td>VehBodystyle</td>\n",
       "      <td>0</td>\n",
       "    </tr>\n",
       "    <tr>\n",
       "      <th>10</th>\n",
       "      <td>VehCertified</td>\n",
       "      <td>0</td>\n",
       "    </tr>\n",
       "    <tr>\n",
       "      <th>11</th>\n",
       "      <td>VehColorExt</td>\n",
       "      <td>7</td>\n",
       "    </tr>\n",
       "    <tr>\n",
       "      <th>12</th>\n",
       "      <td>VehColorInt</td>\n",
       "      <td>108</td>\n",
       "    </tr>\n",
       "    <tr>\n",
       "      <th>13</th>\n",
       "      <td>VehDriveTrain</td>\n",
       "      <td>64</td>\n",
       "    </tr>\n",
       "    <tr>\n",
       "      <th>14</th>\n",
       "      <td>VehEngine</td>\n",
       "      <td>58</td>\n",
       "    </tr>\n",
       "    <tr>\n",
       "      <th>15</th>\n",
       "      <td>VehFeats</td>\n",
       "      <td>37</td>\n",
       "    </tr>\n",
       "    <tr>\n",
       "      <th>16</th>\n",
       "      <td>VehFuel</td>\n",
       "      <td>0</td>\n",
       "    </tr>\n",
       "    <tr>\n",
       "      <th>17</th>\n",
       "      <td>VehHistory</td>\n",
       "      <td>27</td>\n",
       "    </tr>\n",
       "    <tr>\n",
       "      <th>18</th>\n",
       "      <td>VehListdays</td>\n",
       "      <td>0</td>\n",
       "    </tr>\n",
       "    <tr>\n",
       "      <th>19</th>\n",
       "      <td>VehMake</td>\n",
       "      <td>0</td>\n",
       "    </tr>\n",
       "    <tr>\n",
       "      <th>20</th>\n",
       "      <td>VehMileage</td>\n",
       "      <td>1</td>\n",
       "    </tr>\n",
       "    <tr>\n",
       "      <th>21</th>\n",
       "      <td>VehModel</td>\n",
       "      <td>0</td>\n",
       "    </tr>\n",
       "    <tr>\n",
       "      <th>22</th>\n",
       "      <td>VehPriceLabel</td>\n",
       "      <td>38</td>\n",
       "    </tr>\n",
       "    <tr>\n",
       "      <th>23</th>\n",
       "      <td>VehSellerNotes</td>\n",
       "      <td>41</td>\n",
       "    </tr>\n",
       "    <tr>\n",
       "      <th>24</th>\n",
       "      <td>VehType</td>\n",
       "      <td>0</td>\n",
       "    </tr>\n",
       "    <tr>\n",
       "      <th>25</th>\n",
       "      <td>VehTransmission</td>\n",
       "      <td>27</td>\n",
       "    </tr>\n",
       "    <tr>\n",
       "      <th>26</th>\n",
       "      <td>VehYear</td>\n",
       "      <td>0</td>\n",
       "    </tr>\n",
       "  </tbody>\n",
       "</table>\n",
       "</div>"
      ],
      "text/plain": [
       "           Variable  Number Of Missing Variables\n",
       "0         ListingID                            0\n",
       "1        SellerCity                            0\n",
       "2      SellerIsPriv                            0\n",
       "3     SellerListSrc                            0\n",
       "4        SellerName                            0\n",
       "5      SellerRating                            0\n",
       "6      SellerRevCnt                            0\n",
       "7       SellerState                            0\n",
       "8         SellerZip                            0\n",
       "9      VehBodystyle                            0\n",
       "10     VehCertified                            0\n",
       "11      VehColorExt                            7\n",
       "12      VehColorInt                          108\n",
       "13    VehDriveTrain                           64\n",
       "14        VehEngine                           58\n",
       "15         VehFeats                           37\n",
       "16          VehFuel                            0\n",
       "17       VehHistory                           27\n",
       "18      VehListdays                            0\n",
       "19          VehMake                            0\n",
       "20       VehMileage                            1\n",
       "21         VehModel                            0\n",
       "22    VehPriceLabel                           38\n",
       "23   VehSellerNotes                           41\n",
       "24          VehType                            0\n",
       "25  VehTransmission                           27\n",
       "26          VehYear                            0"
      ]
     },
     "execution_count": 20,
     "metadata": {},
     "output_type": "execute_result"
    }
   ],
   "source": [
    "missing_test_df = pd.DataFrame()\n",
    "missing_test_df['Variable'] = Test_df.columns.values.tolist()\n",
    "missing_test_df['Number Of Missing Variables'] = dic_missing_test.values()\n",
    "missing_test_df"
   ]
  },
  {
   "cell_type": "code",
   "execution_count": 21,
   "id": "e8a46d71",
   "metadata": {},
   "outputs": [],
   "source": [
    "# For the training data the missing values will be removed\n",
    "data = Training_df.copy()\n",
    "data.dropna(inplace = True)\n",
    "data.shape\n",
    "data = data.reset_index()"
   ]
  },
  {
   "cell_type": "markdown",
   "id": "a1e0aa1e",
   "metadata": {},
   "source": [
    "If the missing data is dropped we will reduce the dataset by around 20%. Depending on the example and the size of the dataset other options might be replacing the values with the mean/median (if numerical) or mode (if categorica)."
   ]
  },
  {
   "cell_type": "code",
   "execution_count": 22,
   "id": "9e1bb427",
   "metadata": {},
   "outputs": [],
   "source": [
    "# For the testing data the missing values will be filled with the mode and median\n",
    "test_data = Test_df.copy()\n",
    "categorical_test_missing = ['VehColorExt', 'VehColorInt', 'VehDriveTrain', 'VehEngine', 'VehFeats', 'VehHistory', 'VehPriceLabel', 'VehSellerNotes', 'VehTransmission']\n",
    "numerical_test_missing = ['VehMileage']\n",
    "\n",
    "# Replace missing values by median and mode\n",
    "import statistics as st\n",
    "\n",
    "for i in numerical_test_missing:\n",
    "    test_data[i].fillna(test_data[i].median(), inplace=True)\n",
    "    \n",
    "for i in categorical_test_missing:\n",
    "    test_data[i].fillna(st.mode(test_data[i]), inplace=True)"
   ]
  },
  {
   "cell_type": "markdown",
   "id": "d64038b9",
   "metadata": {},
   "source": [
    "### Removing Columns from dataset"
   ]
  },
  {
   "cell_type": "markdown",
   "id": "0023ce33",
   "metadata": {},
   "source": [
    "Based on the nature of the data some columns will be removed as they do not add to the prediction:\n",
    "- `ListingID` (as is a unique value per entry)\n",
    "- `VehSellerNotes` (need more procesing to be used)\n",
    "- `SellerZip`\n",
    "- `VehType` (as it has just one value)\n",
    "- `VehBodystyle` (as it has just one value)"
   ]
  },
  {
   "cell_type": "code",
   "execution_count": 23,
   "id": "9447b0a6",
   "metadata": {},
   "outputs": [],
   "source": [
    "# For Training Dataset\n",
    "data.drop(columns=['ListingID', 'VehSellerNotes', 'SellerZip', 'VehType', 'VehBodystyle', 'index'], inplace = True)\n",
    "columns_updated = data.columns.to_list()"
   ]
  },
  {
   "cell_type": "code",
   "execution_count": 24,
   "id": "74b8df8c",
   "metadata": {},
   "outputs": [],
   "source": [
    "# For Testing Dataset\n",
    "test_data.drop(columns=['VehSellerNotes', 'SellerZip','VehType', 'VehBodystyle'], inplace = True)\n",
    "test_columns_updated = test_data.columns.to_list()"
   ]
  },
  {
   "cell_type": "markdown",
   "id": "c086ddac",
   "metadata": {},
   "source": [
    "### Formatting Boolean Variables"
   ]
  },
  {
   "cell_type": "code",
   "execution_count": 25,
   "id": "9c884b92",
   "metadata": {},
   "outputs": [],
   "source": [
    "boolean_columns = ['SellerIsPriv', 'VehCertified']\n",
    "def boolean_format(columns, df):\n",
    "    for i in columns:\n",
    "        df[i] = df[i].astype(int)"
   ]
  },
  {
   "cell_type": "code",
   "execution_count": 26,
   "id": "76277f2c",
   "metadata": {},
   "outputs": [],
   "source": [
    "#Training Dataset        \n",
    "boolean_format(boolean_columns, data)\n",
    "\n",
    "#Test Dataset        \n",
    "boolean_format(boolean_columns, test_data)"
   ]
  },
  {
   "cell_type": "markdown",
   "id": "b635142a",
   "metadata": {},
   "source": [
    "### Normalizing Numerical Variables"
   ]
  },
  {
   "cell_type": "code",
   "execution_count": 27,
   "id": "fe20dea1",
   "metadata": {},
   "outputs": [],
   "source": [
    "def normalization_format(numeric_columns, df):\n",
    "    from sklearn.preprocessing import StandardScaler\n",
    "    scaler = StandardScaler()\n",
    "    scaler.fit(df[numeric_columns])\n",
    "    data_scaled = scaler.transform(df[numeric_columns])\n",
    "    df1 = pd.DataFrame(data_scaled, columns = numeric_columns)\n",
    "    return df1"
   ]
  },
  {
   "cell_type": "code",
   "execution_count": 28,
   "id": "c7a124cb",
   "metadata": {},
   "outputs": [],
   "source": [
    "# Training Dataset\n",
    "data_norm = normalization_format(numeric_columns, data)\n",
    "data.drop(columns = numeric_columns, inplace = True)\n",
    "data = data.join(data_norm)\n",
    "\n",
    "# Test Dataset\n",
    "data_norm_test = normalization_format(numeric_columns, test_data)\n",
    "test_data.drop(columns = numeric_columns, inplace = True)\n",
    "test_data = test_data.join(data_norm_test)"
   ]
  },
  {
   "cell_type": "code",
   "execution_count": 29,
   "id": "0389ba61",
   "metadata": {},
   "outputs": [],
   "source": [
    "# Special Columns\n",
    "special_columns = ['VehHistory', 'VehFeats']\n",
    "targets = [\"Vehicle_Trim\", \"Dealer_Listing_Price\"]"
   ]
  },
  {
   "cell_type": "code",
   "execution_count": 30,
   "id": "5b9c6aa2",
   "metadata": {},
   "outputs": [],
   "source": [
    "# Categorical Variables:\n",
    "data['Vehicle_Trim'] = data['Vehicle_Trim'].astype('category')\n",
    "d = dict(enumerate(data['Vehicle_Trim'].cat.categories))\n",
    "data[\"Vehicle_Trim_cat\"] = data['Vehicle_Trim'].cat.codes\n",
    "data.drop(columns = 'Vehicle_Trim', inplace = True)"
   ]
  },
  {
   "cell_type": "code",
   "execution_count": 31,
   "id": "cb0acef5",
   "metadata": {},
   "outputs": [],
   "source": [
    "categorical_columns = [i for i in columns_updated if i not in numeric_columns]\n",
    "categorical_columns = [i for i in categorical_columns if i not in boolean_columns]\n",
    "categorical_columns = [i for i in categorical_columns if i not in special_columns]\n",
    "categorical_columns = [i for i in categorical_columns if i not in targets]"
   ]
  },
  {
   "cell_type": "code",
   "execution_count": 32,
   "id": "69212180",
   "metadata": {},
   "outputs": [],
   "source": [
    "for i in categorical_columns:\n",
    "    data[i] = data[i].str.lower() #Training \n",
    "    test_data[i] = test_data[i].str.lower() #Test"
   ]
  },
  {
   "cell_type": "markdown",
   "id": "14f8dd94",
   "metadata": {},
   "source": [
    "### One Hot Encoding For Categorical Columns"
   ]
  },
  {
   "cell_type": "code",
   "execution_count": 33,
   "id": "d302995a",
   "metadata": {},
   "outputs": [],
   "source": [
    "def hot_encoding(data, categorical_columns):\n",
    "    one_hot = pd.get_dummies(data[categorical_columns])\n",
    "    return one_hot"
   ]
  },
  {
   "cell_type": "code",
   "execution_count": 34,
   "id": "98fce583",
   "metadata": {},
   "outputs": [],
   "source": [
    "# Hot encoding for Training \n",
    "one_hot = hot_encoding(data, categorical_columns)\n",
    "data = data.join(one_hot)\n",
    "data.drop(columns = categorical_columns, inplace = True)"
   ]
  },
  {
   "cell_type": "code",
   "execution_count": 35,
   "id": "d09f4959",
   "metadata": {},
   "outputs": [],
   "source": [
    "# Hot encoding for Test\n",
    "one_hot_test = hot_encoding(test_data, categorical_columns)\n",
    "test_data = test_data.join(one_hot_test)\n",
    "test_data.drop(columns = categorical_columns, inplace = True)"
   ]
  },
  {
   "cell_type": "markdown",
   "id": "a9c2f1aa",
   "metadata": {},
   "source": [
    "### Formatting of two *List of Lists* Columns  (`VehHistory` & `VehFeats`)"
   ]
  },
  {
   "cell_type": "markdown",
   "id": "ffaf45e6",
   "metadata": {},
   "source": [
    "There are 2 columns with a list of values that might be important for the analysis. For this reason they are going to be split and included as features (One Hot Encoding):\n",
    "- `VehHistory`\n",
    "- `VehFeats`\n",
    "\n",
    "See examples below:"
   ]
  },
  {
   "cell_type": "code",
   "execution_count": 36,
   "id": "baa516f2",
   "metadata": {},
   "outputs": [
    {
     "data": {
      "text/plain": [
       "0                 1 Owner, Buyback Protection Eligible\n",
       "1    1 Owner, Non-Personal Use Reported, Buyback Pr...\n",
       "2    1 Owner, Non-Personal Use Reported, Buyback Pr...\n",
       "3    1 Owner, Non-Personal Use Reported, Buyback Pr...\n",
       "4    1 Owner, Accident(s) Reported, Non-Personal Us...\n",
       "Name: VehHistory, dtype: object"
      ]
     },
     "execution_count": 36,
     "metadata": {},
     "output_type": "execute_result"
    }
   ],
   "source": [
    "data['VehHistory'].head()"
   ]
  },
  {
   "cell_type": "code",
   "execution_count": 37,
   "id": "34fef2d4",
   "metadata": {},
   "outputs": [
    {
     "data": {
      "text/plain": [
       "0    ['18 WHEEL &amp; 8.4 RADIO GROUP-inc: Nav-Capa...\n",
       "1    ['Android Auto', 'Antilock Brakes', 'Apple Car...\n",
       "2    ['4-Wheel Disc Brakes', 'ABS', 'Adjustable Ste...\n",
       "3    ['1st and 2nd row curtain head airbags', '4-wh...\n",
       "4    ['1st and 2nd row curtain head airbags', '4-wh...\n",
       "Name: VehFeats, dtype: object"
      ]
     },
     "execution_count": 37,
     "metadata": {},
     "output_type": "execute_result"
    }
   ],
   "source": [
    "data['VehFeats'].head()"
   ]
  },
  {
   "cell_type": "markdown",
   "id": "32fa9a2f",
   "metadata": {},
   "source": [
    "### `VehFeats`"
   ]
  },
  {
   "cell_type": "code",
   "execution_count": 38,
   "id": "1b00cc9c",
   "metadata": {},
   "outputs": [],
   "source": [
    "def veh_features(data):\n",
    "    x = pd.Series(data['VehFeats'])\n",
    "    split_df = data['VehFeats'].tolist()\n",
    "    mySeries = pd.Series(split_df) \n",
    "    x = mySeries[2][1:-1]\n",
    "    letter_list = x.split(\",\")\n",
    "\n",
    "    list_of_lists = []\n",
    "    for i in range(len(mySeries)):\n",
    "        x = mySeries[i][1:-1]\n",
    "        new_string = x.replace(\" '\", \"\")\n",
    "        new_string = new_string.replace(\"'\", \"\")\n",
    "        new_string = new_string.replace(\",\", \"_\")\n",
    "        new_string = new_string.replace(\";\", \"_\")\n",
    "        new_string = new_string.lower()\n",
    "        letter_list = new_string.split(\"_\")\n",
    "        list_of_lists.append(letter_list)\n",
    "\n",
    "    from sklearn.preprocessing import MultiLabelBinarizer\n",
    "    \n",
    "    test = pd.Series(list_of_lists)\n",
    "    mlb = MultiLabelBinarizer()\n",
    "    onehot_VehFeats = pd.DataFrame(mlb.fit_transform(test),\n",
    "                       columns=mlb.classes_,\n",
    "                       index=test.index)\n",
    "    return onehot_VehFeats"
   ]
  },
  {
   "cell_type": "code",
   "execution_count": 39,
   "id": "aab95372",
   "metadata": {},
   "outputs": [],
   "source": [
    "# Training Dataset\n",
    "onehot_VehFeats = veh_features(data)\n",
    "data = data.join(onehot_VehFeats)\n",
    "data.drop(columns = 'VehFeats', inplace = True)\n",
    "\n",
    "# Test Dataset\n",
    "onehot_VehFeats_test = veh_features(test_data)\n",
    "test_data = test_data.join(onehot_VehFeats_test)\n",
    "test_data.drop(columns = 'VehFeats', inplace = True)"
   ]
  },
  {
   "cell_type": "markdown",
   "id": "0a9f7204",
   "metadata": {},
   "source": [
    "### `VehHistory`"
   ]
  },
  {
   "cell_type": "code",
   "execution_count": 40,
   "id": "411ce58c",
   "metadata": {},
   "outputs": [],
   "source": [
    "def veh_history(data):\n",
    "    split_df2 = data['VehHistory'].tolist()\n",
    "    mySeries2 = pd.Series(split_df2) \n",
    "\n",
    "    list_of_lists2 = []\n",
    "    for i in range(len(mySeries2)):\n",
    "        w = mySeries2[i]\n",
    "        letter_list2 = w.split(\",\")\n",
    "        list_of_lists2.append(letter_list2)\n",
    "        \n",
    "    from sklearn.preprocessing import MultiLabelBinarizer\n",
    "    \n",
    "    test2 = pd.Series(list_of_lists2)\n",
    "    mlb2 = MultiLabelBinarizer()\n",
    "    onehot_VehHistory = pd.DataFrame(mlb2.fit_transform(test2),\n",
    "                       columns=mlb2.classes_,\n",
    "                       index=test2.index)\n",
    "    return onehot_VehHistory"
   ]
  },
  {
   "cell_type": "code",
   "execution_count": 41,
   "id": "4c5e3608",
   "metadata": {},
   "outputs": [],
   "source": [
    "# Training Dataset\n",
    "onehot_VehHistory = veh_history(data)\n",
    "data = data.join(onehot_VehHistory)\n",
    "data.drop(columns = 'VehHistory', inplace = True)\n",
    "\n",
    "# Test Dataset\n",
    "onehot_VehHistory_test = veh_history(test_data)\n",
    "test_data = test_data.join(onehot_VehHistory_test)\n",
    "test_data.drop(columns = 'VehHistory', inplace = True)"
   ]
  },
  {
   "cell_type": "markdown",
   "id": "411f6ce1",
   "metadata": {},
   "source": [
    "### Splitting the dataset into Target Variables and Features (Training Dataset)"
   ]
  },
  {
   "cell_type": "code",
   "execution_count": 42,
   "id": "48b299db",
   "metadata": {},
   "outputs": [],
   "source": [
    "target_price = data['Dealer_Listing_Price']\n",
    "target_trim = data['Vehicle_Trim_cat']\n",
    "\n",
    "data.drop(columns = ['Dealer_Listing_Price', 'Vehicle_Trim_cat'], inplace = True)\n",
    "columns_model = data.columns.to_list()\n",
    "columns_model_test = test_data.columns.to_list()\n",
    "\n",
    "list1_as_set = set(columns_model_test)\n",
    "intersection = list1_as_set.intersection(columns_model)\n",
    "intersection_as_list = list(intersection)\n",
    "\n",
    "#Features for both the training and testing dataset\n",
    "features = data[intersection_as_list]"
   ]
  },
  {
   "cell_type": "markdown",
   "id": "b57a3dee",
   "metadata": {},
   "source": [
    "**NOTE: Training Features and Test Features have to be the same**\n",
    "\n",
    "Since this is going to help in the prediction of a test dataset that has not been seen by the model, it is important to ensure that variables used by the model are the same for both dataframes (hence the last step)."
   ]
  },
  {
   "cell_type": "markdown",
   "id": "12cdc38e",
   "metadata": {},
   "source": [
    "## Model 1: Prediction of `Dealer Listing Price`"
   ]
  },
  {
   "cell_type": "markdown",
   "id": "724eaf27",
   "metadata": {},
   "source": [
    "### Feature Selection (LASSO) for `Dealer Listing Price` Variable\n",
    "\n",
    "Note: There are multiple ways to do the Feature Selection like Regularization (Lasso & Ridge) or PCA being among the most popular. Each method depend on finding the balance between complexity and interpretability."
   ]
  },
  {
   "cell_type": "code",
   "execution_count": 43,
   "id": "ddf9dc8c",
   "metadata": {},
   "outputs": [],
   "source": [
    "# LASSO\n",
    "def feature_select_lasso(features, target_price, alpha_val):\n",
    "    \n",
    "    from sklearn import linear_model\n",
    "    alpha = alpha_val # Increasing alpha can shrink more variable coefficients to 0\n",
    "    clf = linear_model.Lasso(alpha=alpha)\n",
    "\n",
    "    clf.fit(features, target_price)\n",
    "    lasso_coef = clf.coef_\n",
    "    wrapper_columns = features.columns.tolist()\n",
    "\n",
    "    #Selection of the non zero coefficients from the LASSO regression\n",
    "    lasso_features = []\n",
    "    non_lasso_features = []\n",
    "    for i in range(len(wrapper_columns)):\n",
    "        w = lasso_coef[i]\n",
    "        if w != 0:\n",
    "            u = wrapper_columns[i]\n",
    "            lasso_features.append(u)\n",
    "        else:\n",
    "            t = wrapper_columns[i]\n",
    "            non_lasso_features.append(t)\n",
    "\n",
    "    len_lasso = len(lasso_features)\n",
    "    return lasso_features, len_lasso"
   ]
  },
  {
   "cell_type": "code",
   "execution_count": 44,
   "id": "6b57f5e5",
   "metadata": {},
   "outputs": [
    {
     "name": "stdout",
     "output_type": "stream",
     "text": [
      "# of Features using LASSO: 353\n"
     ]
    }
   ],
   "source": [
    "lasso_features, len_lasso = feature_select_lasso(features, target_price, 2)\n",
    "print('# of Features using LASSO: ' + str(len_lasso))"
   ]
  },
  {
   "cell_type": "markdown",
   "id": "abc5e34d",
   "metadata": {},
   "source": [
    "### Model for `Dealer Listing Price` prediction"
   ]
  },
  {
   "cell_type": "markdown",
   "id": "5ce5f4eb",
   "metadata": {},
   "source": [
    "For this the training data will be split into 2 datasets: train and validation. This to be able (if needed) to update the model until an acceptable performance value is achieved and then train the model with the entire dataset and test it in the final test dataset."
   ]
  },
  {
   "cell_type": "code",
   "execution_count": 45,
   "id": "aee17a1b",
   "metadata": {},
   "outputs": [],
   "source": [
    "from sklearn.model_selection import train_test_split\n",
    "lasso_variables = data[lasso_features]\n",
    "X_train, X_test, y_train, y_test = train_test_split(lasso_variables, target_price, test_size=0.20, random_state=42)"
   ]
  },
  {
   "cell_type": "markdown",
   "id": "6f5b9b59",
   "metadata": {},
   "source": [
    "#### Training"
   ]
  },
  {
   "cell_type": "code",
   "execution_count": 46,
   "id": "740a9bf1",
   "metadata": {},
   "outputs": [],
   "source": [
    "from sklearn.linear_model import ElasticNet\n",
    "from sklearn.linear_model import LinearRegression\n",
    "from sklearn.linear_model import ElasticNetCV\n",
    "\n",
    "#Fit a linear regression model to this data\n",
    "lasso = ElasticNetCV(l1_ratio = [0.1, 0.3, 0.5, 0.7, 0.9],\n",
    "                   alphas = [0.001, 0.005, 0.01, 0.05, 0.1], \n",
    "                   max_iter=10000)"
   ]
  },
  {
   "cell_type": "code",
   "execution_count": 47,
   "id": "84c33932",
   "metadata": {},
   "outputs": [
    {
     "name": "stderr",
     "output_type": "stream",
     "text": [
      "C:\\Users\\rodol\\Anaconda3\\lib\\site-packages\\sklearn\\linear_model\\_coordinate_descent.py:526: ConvergenceWarning: Objective did not converge. You might want to increase the number of iterations. Duality gap: 240362428.90410995, tolerance: 19455929.413019426\n",
      "  model = cd_fast.enet_coordinate_descent_gram(\n",
      "C:\\Users\\rodol\\Anaconda3\\lib\\site-packages\\sklearn\\linear_model\\_coordinate_descent.py:526: ConvergenceWarning: Objective did not converge. You might want to increase the number of iterations. Duality gap: 282554777.9262676, tolerance: 19965907.56805779\n",
      "  model = cd_fast.enet_coordinate_descent_gram(\n",
      "C:\\Users\\rodol\\Anaconda3\\lib\\site-packages\\sklearn\\linear_model\\_coordinate_descent.py:526: ConvergenceWarning: Objective did not converge. You might want to increase the number of iterations. Duality gap: 476683839.1380272, tolerance: 19133778.023431525\n",
      "  model = cd_fast.enet_coordinate_descent_gram(\n",
      "C:\\Users\\rodol\\Anaconda3\\lib\\site-packages\\sklearn\\linear_model\\_coordinate_descent.py:526: ConvergenceWarning: Objective did not converge. You might want to increase the number of iterations. Duality gap: 149149527.7768383, tolerance: 19155100.858702328\n",
      "  model = cd_fast.enet_coordinate_descent_gram(\n",
      "C:\\Users\\rodol\\Anaconda3\\lib\\site-packages\\sklearn\\linear_model\\_coordinate_descent.py:526: ConvergenceWarning: Objective did not converge. You might want to increase the number of iterations. Duality gap: 84699103.13090515, tolerance: 19657557.950388916\n",
      "  model = cd_fast.enet_coordinate_descent_gram(\n",
      "C:\\Users\\rodol\\Anaconda3\\lib\\site-packages\\sklearn\\linear_model\\_coordinate_descent.py:530: ConvergenceWarning: Objective did not converge. You might want to increase the number of iterations. Duality gap: 5984196687.441329, tolerance: 24343437.594786618\n",
      "  model = cd_fast.enet_coordinate_descent(\n"
     ]
    },
    {
     "data": {
      "text/plain": [
       "ElasticNetCV(alphas=[0.001, 0.005, 0.01, 0.05, 0.1],\n",
       "             l1_ratio=[0.1, 0.3, 0.5, 0.7, 0.9], max_iter=10000)"
      ]
     },
     "execution_count": 47,
     "metadata": {},
     "output_type": "execute_result"
    }
   ],
   "source": [
    "# Fit the data(train the model)\n",
    "lasso.fit(X_train, y_train)"
   ]
  },
  {
   "cell_type": "code",
   "execution_count": 48,
   "id": "57b49439",
   "metadata": {},
   "outputs": [
    {
     "name": "stdout",
     "output_type": "stream",
     "text": [
      "The Best alpha value was:\n",
      "0.001\n",
      "\n",
      "The Best l1 ratio value was:\n",
      "0.9\n"
     ]
    }
   ],
   "source": [
    "print('The Best alpha value was:')\n",
    "print(lasso.alpha_)\n",
    "print('')\n",
    "print('The Best l1 ratio value was:')\n",
    "print(lasso.l1_ratio_)"
   ]
  },
  {
   "cell_type": "markdown",
   "id": "831faf19",
   "metadata": {},
   "source": [
    "#### Results/Predictions"
   ]
  },
  {
   "cell_type": "code",
   "execution_count": 49,
   "id": "1c14ac88",
   "metadata": {},
   "outputs": [],
   "source": [
    "# Predict\n",
    "y_predicted_train_lasso = lasso.predict(X_train)\n",
    "y_predicted_test_lasso = lasso.predict(X_test)"
   ]
  },
  {
   "cell_type": "code",
   "execution_count": 50,
   "id": "cbfa19a3",
   "metadata": {},
   "outputs": [],
   "source": [
    "def rsquared_cal(actual, predicted, status):\n",
    "    corr_matrix = np.corrcoef(actual, predicted)\n",
    "    corr = corr_matrix[0,1]\n",
    "    R_sq = corr**2\n",
    "    print(status + ' R-Squared: {}'.format(R_sq))\n",
    "    \n",
    "def scatters(a,b,c,d):\n",
    "    plt.figure(figsize=(10, 6)).gca()\n",
    "    plt.scatter(a, b)\n",
    "    plt.plot(a, c, linewidth=3, color = 'red')\n",
    "    plt.grid(True)\n",
    "    plt.xlabel(d)\n",
    "    plt.ylabel('Price')\n",
    "    plt.title('Regression using: ' + d)"
   ]
  },
  {
   "cell_type": "code",
   "execution_count": 51,
   "id": "108d80ac",
   "metadata": {},
   "outputs": [
    {
     "name": "stdout",
     "output_type": "stream",
     "text": [
      "Training R-Squared: 0.925063981143368\n"
     ]
    },
    {
     "data": {
      "image/png": "[encoded data removed]",
      "text/plain": [
       "<Figure size 720x432 with 1 Axes>"
      ]
     },
     "metadata": {
      "needs_background": "light"
     },
     "output_type": "display_data"
    }
   ],
   "source": [
    "#Training Results\n",
    "scatters(y_predicted_train_lasso, y_train, y_predicted_train_lasso, 'All Variables (Prediction) - Train Data')\n",
    "rsquared_cal(y_train, y_predicted_train_lasso, 'Training')"
   ]
  },
  {
   "cell_type": "code",
   "execution_count": 52,
   "id": "b11b5b94",
   "metadata": {},
   "outputs": [
    {
     "name": "stdout",
     "output_type": "stream",
     "text": [
      "Validation R-Squared: 0.8923920880606668\n"
     ]
    },
    {
     "data": {
      "image/png": "[encoded data removed]",
      "text/plain": [
       "<Figure size 720x432 with 1 Axes>"
      ]
     },
     "metadata": {
      "needs_background": "light"
     },
     "output_type": "display_data"
    }
   ],
   "source": [
    "#Validation Results\n",
    "scatters(y_predicted_test_lasso, y_test, y_predicted_test_lasso, 'All Variables (Prediction) - Validation Dataset')\n",
    "rsquared_cal(y_test, y_predicted_test_lasso, 'Validation')"
   ]
  },
  {
   "cell_type": "markdown",
   "id": "f3e64603",
   "metadata": {},
   "source": [
    "### Re-train the model but now with all the datapoints (training + validation)"
   ]
  },
  {
   "cell_type": "code",
   "execution_count": 53,
   "id": "56cb1824",
   "metadata": {},
   "outputs": [
    {
     "data": {
      "text/plain": [
       "ElasticNet(alpha=0.001, max_iter=10000)"
      ]
     },
     "execution_count": 53,
     "metadata": {},
     "output_type": "execute_result"
    }
   ],
   "source": [
    "#Fit a linear regression model to this data\n",
    "lassofinal = ElasticNet(alpha = 0.001, max_iter=10000)\n",
    "\n",
    "# Fit the data(train the model) lasso_variables, target_price\n",
    "lassofinal.fit(lasso_variables, target_price)"
   ]
  },
  {
   "cell_type": "markdown",
   "id": "5626d1de",
   "metadata": {},
   "source": [
    "#### Prediction using the `Test_data`. "
   ]
  },
  {
   "cell_type": "code",
   "execution_count": 54,
   "id": "32f92e8a",
   "metadata": {},
   "outputs": [],
   "source": [
    "# Test Predictions\n",
    "lasso_variables_test = test_data[lasso_features]\n",
    "final_prediction_price = lassofinal.predict(lasso_variables_test)"
   ]
  },
  {
   "cell_type": "code",
   "execution_count": 55,
   "id": "3f2f5f5d",
   "metadata": {},
   "outputs": [
    {
     "data": {
      "image/png": "[encoded data removed]",
      "text/plain": [
       "<Figure size 432x288 with 1 Axes>"
      ]
     },
     "metadata": {
      "needs_background": "light"
     },
     "output_type": "display_data"
    }
   ],
   "source": [
    "plt.hist(final_prediction_price)\n",
    "plt.xlabel('Price', fontsize = 15)\n",
    "plt.ylabel('Frequency',fontsize = 15)\n",
    "plt.tick_params(axis=\"x\", labelsize=10)\n",
    "plt.tick_params(axis=\"y\", labelsize=10)\n",
    "plt.grid(True)\n",
    "plt.show()"
   ]
  },
  {
   "cell_type": "markdown",
   "id": "6ce720eb",
   "metadata": {},
   "source": [
    "## Model 2: Prediction of `Vehicle_Trim`"
   ]
  },
  {
   "cell_type": "markdown",
   "id": "ff1c4333",
   "metadata": {},
   "source": [
    "### Feature Selection (LASSO) for `Vehicle_Trim` Variable"
   ]
  },
  {
   "cell_type": "code",
   "execution_count": 56,
   "id": "ceefc63d",
   "metadata": {},
   "outputs": [
    {
     "name": "stdout",
     "output_type": "stream",
     "text": [
      "# of Features using LASSO: 450\n"
     ]
    },
    {
     "name": "stderr",
     "output_type": "stream",
     "text": [
      "C:\\Users\\rodol\\Anaconda3\\lib\\site-packages\\sklearn\\linear_model\\_coordinate_descent.py:530: ConvergenceWarning: Objective did not converge. You might want to increase the number of iterations. Duality gap: 968.7279340553941, tolerance: 14.667880555004965\n",
      "  model = cd_fast.enet_coordinate_descent(\n"
     ]
    }
   ],
   "source": [
    "lasso_features_trim, len_lasso_trim = feature_select_lasso(features, target_trim, 0.001)\n",
    "print('# of Features using LASSO: ' + str(len_lasso_trim))"
   ]
  },
  {
   "cell_type": "code",
   "execution_count": 57,
   "id": "ec1c1d7a",
   "metadata": {},
   "outputs": [],
   "source": [
    "lasso_variables_tim = data[lasso_features_trim]\n",
    "X_train_2, X_test_2, y_train_2, y_test_2 = train_test_split(lasso_variables_tim, target_trim, test_size=0.20, random_state=42)"
   ]
  },
  {
   "cell_type": "markdown",
   "id": "6d29cb04",
   "metadata": {},
   "source": [
    "### Different Models and Hyperparameters"
   ]
  },
  {
   "cell_type": "code",
   "execution_count": 58,
   "id": "a0c34ed5",
   "metadata": {},
   "outputs": [],
   "source": [
    "from sklearn.tree import DecisionTreeClassifier\n",
    "from sklearn.ensemble import RandomForestClassifier \n",
    "from sklearn.model_selection import RandomizedSearchCV\n",
    "from sklearn import metrics\n",
    "from sklearn.metrics import classification_report"
   ]
  },
  {
   "cell_type": "markdown",
   "id": "35673d41",
   "metadata": {},
   "source": [
    "#### Hyperparameter Settings for the `Decision Tree` Model"
   ]
  },
  {
   "cell_type": "code",
   "execution_count": 59,
   "id": "b95ad7dc",
   "metadata": {},
   "outputs": [
    {
     "name": "stderr",
     "output_type": "stream",
     "text": [
      "C:\\Users\\rodol\\Anaconda3\\lib\\site-packages\\sklearn\\model_selection\\_split.py:666: UserWarning: The least populated class in y has only 1 members, which is less than n_splits=3.\n",
      "  warnings.warn((\"The least populated class in y has only %d\"\n"
     ]
    },
    {
     "name": "stdout",
     "output_type": "stream",
     "text": [
      "Fitting 3 folds for each of 200 candidates, totalling 600 fits\n"
     ]
    },
    {
     "data": {
      "text/plain": [
       "{'min_samples_split': 10,\n",
       " 'min_samples_leaf': 2,\n",
       " 'max_depth': 9,\n",
       " 'criterion': 'entropy'}"
      ]
     },
     "execution_count": 59,
     "metadata": {},
     "output_type": "execute_result"
    }
   ],
   "source": [
    "max_depth_options = [2,3,4,5,6,7,8,9,10]\n",
    "min_sample_options = [2,3,4,5,6,7,8,9,10]\n",
    "model_criterion = ['entropy', 'gini']\n",
    "min_samples_leaf_options = [2,3,4,5,6,7,8,9,10]\n",
    "\n",
    "dt_grid = {'criterion': model_criterion, \n",
    "           'max_depth': max_depth_options,\n",
    "           'min_samples_split':min_sample_options,\n",
    "           'min_samples_leaf':min_samples_leaf_options}\n",
    "\n",
    "dt_base = DecisionTreeClassifier()\n",
    "\n",
    "decision_trees_hyper = RandomizedSearchCV(estimator = dt_base, param_distributions = dt_grid, \n",
    "                               n_iter = 200, cv = 3, verbose = 2, random_state = 42, \n",
    "                               n_jobs = -1)\n",
    "\n",
    "# Fit the random search model\n",
    "decision_trees_hyper.fit(X_train_2, y_train_2)\n",
    "\n",
    "x = decision_trees_hyper.best_params_\n",
    "x"
   ]
  },
  {
   "cell_type": "markdown",
   "id": "e268f917",
   "metadata": {},
   "source": [
    "#### Hyperparameter Settings for the `Random Forest` Model"
   ]
  },
  {
   "cell_type": "code",
   "execution_count": 60,
   "id": "92e6034d",
   "metadata": {},
   "outputs": [
    {
     "name": "stdout",
     "output_type": "stream",
     "text": [
      "Fitting 3 folds for each of 200 candidates, totalling 600 fits\n"
     ]
    },
    {
     "name": "stderr",
     "output_type": "stream",
     "text": [
      "C:\\Users\\rodol\\Anaconda3\\lib\\site-packages\\sklearn\\model_selection\\_split.py:666: UserWarning: The least populated class in y has only 1 members, which is less than n_splits=3.\n",
      "  warnings.warn((\"The least populated class in y has only %d\"\n"
     ]
    },
    {
     "data": {
      "text/plain": [
       "{'n_estimators': 50,\n",
       " 'min_samples_split': 4,\n",
       " 'min_samples_leaf': 2,\n",
       " 'max_depth': 10,\n",
       " 'criterion': 'entropy'}"
      ]
     },
     "execution_count": 60,
     "metadata": {},
     "output_type": "execute_result"
    }
   ],
   "source": [
    "n_estimators_options = [10,20,30,40,50,60,70,80,90,100]\n",
    "\n",
    "rf_grid = {'criterion': model_criterion,\n",
    "           'n_estimators':n_estimators_options, \n",
    "           'max_depth': max_depth_options,\n",
    "           'min_samples_split':min_sample_options,\n",
    "           'min_samples_leaf':min_samples_leaf_options}\n",
    "\n",
    "rf_base = RandomForestClassifier()\n",
    "\n",
    "random_forest_hyper = RandomizedSearchCV(estimator = rf_base, param_distributions = rf_grid, \n",
    "                               n_iter = 200, cv = 3, verbose = 2, random_state = 42, \n",
    "                               n_jobs = -1)\n",
    "\n",
    "# Fit the random search model\n",
    "random_forest_hyper.fit(X_train_2, y_train_2)\n",
    "\n",
    "y = random_forest_hyper.best_params_\n",
    "y"
   ]
  },
  {
   "cell_type": "markdown",
   "id": "bcf2621d",
   "metadata": {},
   "source": [
    "#### Hyperparameter Settings for the `Logistic Regression` Model"
   ]
  },
  {
   "cell_type": "code",
   "execution_count": 61,
   "id": "ce3ac9e8",
   "metadata": {},
   "outputs": [
    {
     "name": "stderr",
     "output_type": "stream",
     "text": [
      "C:\\Users\\rodol\\Anaconda3\\lib\\site-packages\\sklearn\\model_selection\\_search.py:285: UserWarning: The total space of parameters 8 is smaller than n_iter=200. Running 8 iterations. For exhaustive searches, use GridSearchCV.\n",
      "  warnings.warn(\n",
      "C:\\Users\\rodol\\Anaconda3\\lib\\site-packages\\sklearn\\model_selection\\_split.py:666: UserWarning: The least populated class in y has only 1 members, which is less than n_splits=3.\n",
      "  warnings.warn((\"The least populated class in y has only %d\"\n"
     ]
    },
    {
     "name": "stdout",
     "output_type": "stream",
     "text": [
      "Fitting 3 folds for each of 8 candidates, totalling 24 fits\n"
     ]
    },
    {
     "name": "stderr",
     "output_type": "stream",
     "text": [
      "C:\\Users\\rodol\\Anaconda3\\lib\\site-packages\\sklearn\\model_selection\\_search.py:918: UserWarning: One or more of the test scores are non-finite: [0.85852284 0.86100042        nan 0.85877067 0.85877049 0.86100042\n",
      "        nan 0.85381589]\n",
      "  warnings.warn(\n"
     ]
    },
    {
     "data": {
      "text/plain": [
       "{'solver': 'saga',\n",
       " 'penalty': 'l2',\n",
       " 'multi_class': 'multinomial',\n",
       " 'max_iter': 1000}"
      ]
     },
     "execution_count": 61,
     "metadata": {},
     "output_type": "execute_result"
    }
   ],
   "source": [
    "from sklearn.linear_model import LogisticRegression\n",
    "\n",
    "max_iter_options = [1000,10000]\n",
    "penalty_options = ['l1', 'l2', 'elasticnet', 'none']\n",
    "solver_options = ['saga']\n",
    "multi = ['multinomial']\n",
    "\n",
    "lr_grid = {'penalty': penalty_options,\n",
    "           'solver': solver_options,\n",
    "           'multi_class': multi,\n",
    "           'max_iter': max_iter_options}\n",
    "\n",
    "lr_base = LogisticRegression()\n",
    "\n",
    "logistic_reg_hyper = RandomizedSearchCV(estimator = lr_base, param_distributions = lr_grid, \n",
    "                               n_iter = 200, cv = 3, verbose = 2, random_state = 42, \n",
    "                               n_jobs = -1)\n",
    "\n",
    "# Fit the random search model\n",
    "logistic_reg_hyper.fit(X_train_2, y_train_2)\n",
    "\n",
    "z = logistic_reg_hyper.best_params_\n",
    "z"
   ]
  },
  {
   "cell_type": "markdown",
   "id": "f7e9c420",
   "metadata": {},
   "source": [
    "### Comparison & Final Model Selection"
   ]
  },
  {
   "cell_type": "code",
   "execution_count": 62,
   "id": "94c1799a",
   "metadata": {},
   "outputs": [
    {
     "name": "stderr",
     "output_type": "stream",
     "text": [
      "C:\\Users\\rodol\\Anaconda3\\lib\\site-packages\\sklearn\\model_selection\\_split.py:666: UserWarning: The least populated class in y has only 1 members, which is less than n_splits=10.\n",
      "  warnings.warn((\"The least populated class in y has only %d\"\n",
      "C:\\Users\\rodol\\Anaconda3\\lib\\site-packages\\sklearn\\model_selection\\_split.py:666: UserWarning: The least populated class in y has only 1 members, which is less than n_splits=10.\n",
      "  warnings.warn((\"The least populated class in y has only %d\"\n",
      "C:\\Users\\rodol\\Anaconda3\\lib\\site-packages\\sklearn\\model_selection\\_split.py:666: UserWarning: The least populated class in y has only 1 members, which is less than n_splits=10.\n",
      "  warnings.warn((\"The least populated class in y has only %d\"\n"
     ]
    },
    {
     "data": {
      "image/png": "[encoded data removed]",
      "text/plain": [
       "<Figure size 432x288 with 1 Axes>"
      ]
     },
     "metadata": {
      "needs_background": "light"
     },
     "output_type": "display_data"
    }
   ],
   "source": [
    "from sklearn.metrics import accuracy_score, confusion_matrix, classification_report, roc_curve\n",
    "from sklearn.model_selection import StratifiedKFold, cross_val_score, cross_val_predict, KFold\n",
    "\n",
    "#Classifiers\n",
    "dt = DecisionTreeClassifier(criterion=x['criterion'], max_depth = x['max_depth'], min_samples_split = x['min_samples_split'], min_samples_leaf = x['min_samples_leaf'])\n",
    "rf = RandomForestClassifier(n_estimators = y['n_estimators'], criterion = y['criterion'], max_depth = y['max_depth'], min_samples_split = y['min_samples_split'], min_samples_leaf = y['min_samples_leaf'])\n",
    "lr = LogisticRegression(solver = z['solver'], penalty = z['penalty'], multi_class = z['multi_class'], max_iter = z['max_iter'])\n",
    "\n",
    "#List for Classifiers and Names\n",
    "header = [\"Decision_Tree\",\"Random_Forest\", \"Logistic_Regression\"]\n",
    "V = [dt, rf, lr]\n",
    "\n",
    "skf = StratifiedKFold(n_splits=10)\n",
    "summary_accuracy = []\n",
    "variation_accuracy = []\n",
    "for i in V:\n",
    "    results = cross_val_score(i, X_train_2, y_train_2, cv=skf)\n",
    "    accuracy = results.mean()*100.0\n",
    "    variation = results.std()*100.0\n",
    "    summary_accuracy.append(accuracy)\n",
    "    variation_accuracy.append(variation)\n",
    "    \n",
    "colors = ['lightseagreen', 'tomato', 'darkmagenta']\n",
    "plt.bar(header, summary_accuracy, color=colors)\n",
    "plt.xticks(rotation=45)\n",
    "plt.title('Model Performance on Training Data')\n",
    "plt.ylabel(\"Score\")\n",
    "plt.show()"
   ]
  },
  {
   "cell_type": "code",
   "execution_count": 63,
   "id": "ad2cc92c",
   "metadata": {},
   "outputs": [
    {
     "name": "stdout",
     "output_type": "stream",
     "text": [
      "Accuracy\n",
      "[81.66541778247304, 75.54449303491143, 87.68641132103285]\n",
      "\n",
      "Variation in Accuracy\n",
      "[1.880570227392559, 2.3991881644484847, 1.373546375794306]\n"
     ]
    }
   ],
   "source": [
    "print('Accuracy')\n",
    "print(summary_accuracy)\n",
    "print('')\n",
    "print('Variation in Accuracy')\n",
    "print(variation_accuracy)"
   ]
  },
  {
   "cell_type": "code",
   "execution_count": 64,
   "id": "bc31b6cd",
   "metadata": {},
   "outputs": [
    {
     "data": {
      "image/png": "[encoded data removed]",
      "text/plain": [
       "<Figure size 432x288 with 1 Axes>"
      ]
     },
     "metadata": {
      "needs_background": "light"
     },
     "output_type": "display_data"
    }
   ],
   "source": [
    "summary_accuracy_validation = []\n",
    "for i in V:\n",
    "    i.fit(X_train_2, y_train_2)\n",
    "    prediction_val = i.predict(X_test_2)\n",
    "    AR = accuracy_score(y_test_2, prediction_val)\n",
    "    summary_accuracy_validation.append(AR)\n",
    "\n",
    "colors = ['lightseagreen', 'tomato', 'darkmagenta']\n",
    "plt.bar(header, summary_accuracy_validation, color=colors)\n",
    "plt.xticks(rotation=45)\n",
    "plt.title('Model Performance on Validation Data')\n",
    "plt.ylabel(\"Score\")\n",
    "plt.show()"
   ]
  },
  {
   "cell_type": "markdown",
   "id": "8241284c",
   "metadata": {},
   "source": [
    "### Final Model 2 Selection and Training (using `training` + `validation` data)"
   ]
  },
  {
   "cell_type": "code",
   "execution_count": 67,
   "id": "8b3d26fe",
   "metadata": {},
   "outputs": [
    {
     "data": {
      "text/plain": [
       "LogisticRegression(max_iter=1000, multi_class='multinomial', solver='saga')"
      ]
     },
     "execution_count": 67,
     "metadata": {},
     "output_type": "execute_result"
    }
   ],
   "source": [
    "lr = LogisticRegression(solver = z['solver'], penalty = z['penalty'], multi_class = z['multi_class'], max_iter = z['max_iter'])\n",
    "lr.fit(lasso_variables_tim, target_trim)"
   ]
  },
  {
   "cell_type": "code",
   "execution_count": 68,
   "id": "e87f43ab",
   "metadata": {},
   "outputs": [],
   "source": [
    "ListingID_column = test_data['ListingID']\n",
    "test_data.drop(columns=['ListingID'], inplace = True)\n",
    "\n",
    "# Test Predictions\n",
    "lasso_variables_test_trim = test_data[lasso_features_trim]\n",
    "final_prediction_trim = lr.predict(lasso_variables_test_trim)"
   ]
  },
  {
   "cell_type": "markdown",
   "id": "146c1ca0",
   "metadata": {},
   "source": [
    "##  Export to dataframe"
   ]
  },
  {
   "cell_type": "code",
   "execution_count": 69,
   "id": "7b88d976",
   "metadata": {},
   "outputs": [],
   "source": [
    "final_dataframe = pd.DataFrame()\n",
    "final_dataframe['ListingID'] = ListingID_column\n",
    "final_dataframe['trim_prediction'] = final_prediction_trim\n",
    "final_dataframe['price_prediction'] = final_prediction_price\n",
    "final_dataframe = final_dataframe.replace({'trim_prediction': d})\n",
    "final_dataframe.to_csv('predictions.csv', index=False)"
   ]
  },
  {
   "cell_type": "markdown",
   "id": "ee4f3443",
   "metadata": {},
   "source": [
    "**Instructions:**\n",
    "\n",
    "- Model the problem using whatever means you consider best. Your work is expected to be entirely your own. You may consult any resource or reference of your choosing to aide in solving the problem, but the work must be entirely yours. Please reference any resources you use in the write-up covered in step 5.\n",
    "\n",
    "\n",
    "- If you use a software package to assist you, please include ALL of your original source code in its entirety, and submit it to us EXACTLY following the instructions in Steps 5 and 6. Please also include information about which package you used and why in your brief problem write-up.\n",
    "\n",
    "\n",
    "- Do not use or add data from any third-party sources, such as internet car estimating tools, to the data provided. At your discretion, some or all of the provided data in `“Training_dataset.csv”` may be used, omitted or manipulated in any way during modeling, but no additional data may be added from outside sources.\n",
    "\n",
    "\n",
    "- Once your model is built, use it to make predictions on EACH of the 1,000 vehicle listings included in the `“Test_dataset.csv”` file. Your output should be a comma separated values (.csv) file with one-thousand rows and three columns. The first column should be the `unique identifier` for the listing. The second column should be your predicted value for `vehicle trim`. The third column should be your predicted value for `dealer listing price`.\n",
    "\n",
    "\n",
    "- Please submit a brief write-up of no more than 500 words describing the approach you selected and why. Please save your response as a PDF if possible. Please copy any source code from Step 2 and paste it as text into an appendix at the end of your write-up.\n",
    "\n",
    "\n",
    "- Return your submission to us by replying back to the original email before the date and time specified in that email. Please attach the CSV containing your predictions from Step 4 and the PDF containing your write-up and source code from step 5 to the email. It should contain ONLY two attachments: the CSV from step 4 and the PDF from Step 5. Please don’t resubmit any of our original data back in your reply."
   ]
  },
  {
   "cell_type": "markdown",
   "id": "1f0d0619",
   "metadata": {},
   "source": [
    "# Extra (Artificial Neural Networks)\n",
    "\n",
    "The part of the analysis is extra an it is not used for the final predictions. This is just an example of the same problem being worked using Deep Neural Networks."
   ]
  },
  {
   "cell_type": "markdown",
   "id": "431cc1fc",
   "metadata": {},
   "source": [
    "## Basic Artificial Neural Network for Regression Problem"
   ]
  },
  {
   "cell_type": "code",
   "execution_count": 70,
   "id": "5c089325",
   "metadata": {},
   "outputs": [
    {
     "name": "stdout",
     "output_type": "stream",
     "text": [
      "Model: \"sequential\"\n",
      "_________________________________________________________________\n",
      " Layer (type)                Output Shape              Param #   \n",
      "=================================================================\n",
      " dense (Dense)               (None, 512)               181248    \n",
      "                                                                 \n",
      " dropout (Dropout)           (None, 512)               0         \n",
      "                                                                 \n",
      " dense_1 (Dense)             (None, 256)               131328    \n",
      "                                                                 \n",
      " dropout_1 (Dropout)         (None, 256)               0         \n",
      "                                                                 \n",
      " dense_2 (Dense)             (None, 64)                16448     \n",
      "                                                                 \n",
      " dense_3 (Dense)             (None, 1)                 65        \n",
      "                                                                 \n",
      "=================================================================\n",
      "Total params: 329,089\n",
      "Trainable params: 329,089\n",
      "Non-trainable params: 0\n",
      "_________________________________________________________________\n"
     ]
    }
   ],
   "source": [
    "import tensorflow as tf\n",
    "import tensorflow.keras.models as models\n",
    "import tensorflow.keras.layers as layers\n",
    "from tensorflow.keras import regularizers\n",
    "from tensorflow.keras.layers import Dropout\n",
    "from tensorflow.keras import optimizers\n",
    "nn = models.Sequential()\n",
    "\n",
    "#nn.add(tf.keras.Input(shape=(28*28,)))\n",
    "nn.add(layers.Dense(512, \n",
    "                    activation = 'relu',\n",
    "                    input_dim = X_train.shape[1],\n",
    "                    kernel_regularizer=regularizers.l2(0.1)))\n",
    "nn.add(layers.Dropout(0.5))\n",
    "nn.add(layers.Dense(256, \n",
    "                    activation = 'relu',\n",
    "                    kernel_regularizer=regularizers.l2(0.1)))\n",
    "nn.add(layers.Dropout(0.5))\n",
    "nn.add(layers.Dense(64, \n",
    "                    activation = 'relu'))\n",
    "nn.add(layers.Dense(1, activation = 'linear'))\n",
    "\n",
    "nn.summary()"
   ]
  },
  {
   "cell_type": "code",
   "execution_count": 71,
   "id": "dad9c8cc",
   "metadata": {
    "scrolled": false
   },
   "outputs": [
    {
     "name": "stdout",
     "output_type": "stream",
     "text": [
      "Epoch 1/40\n",
      "16/16 [==============================] - 1s 25ms/step - loss: 1087962752.0000 - rmse: 32984.2773 - val_loss: 1041996544.0000 - val_rmse: 32279.9707\n",
      "Epoch 2/40\n",
      "16/16 [==============================] - 0s 11ms/step - loss: 1014362560.0000 - rmse: 31849.0586 - val_loss: 910068288.0000 - val_rmse: 30167.3340\n",
      "Epoch 3/40\n",
      "16/16 [==============================] - 0s 12ms/step - loss: 826358272.0000 - rmse: 28746.4473 - val_loss: 660983936.0000 - val_rmse: 25709.6035\n",
      "Epoch 4/40\n",
      "16/16 [==============================] - 0s 12ms/step - loss: 538457216.0000 - rmse: 23204.6758 - val_loss: 350332352.0000 - val_rmse: 18717.1621\n",
      "Epoch 5/40\n",
      "16/16 [==============================] - 0s 17ms/step - loss: 245815600.0000 - rmse: 15678.5000 - val_loss: 111748936.0000 - val_rmse: 10571.1240\n",
      "Epoch 6/40\n",
      "16/16 [==============================] - 0s 14ms/step - loss: 84249632.0000 - rmse: 9178.7441 - val_loss: 42143712.0000 - val_rmse: 6491.7949\n",
      "Epoch 7/40\n",
      "16/16 [==============================] - 0s 13ms/step - loss: 52967864.0000 - rmse: 7277.8804 - val_loss: 35159624.0000 - val_rmse: 5929.5283\n",
      "Epoch 8/40\n",
      "16/16 [==============================] - 0s 13ms/step - loss: 46512756.0000 - rmse: 6820.0024 - val_loss: 31084522.0000 - val_rmse: 5575.3203\n",
      "Epoch 9/40\n",
      "16/16 [==============================] - 0s 13ms/step - loss: 41833780.0000 - rmse: 6467.8784 - val_loss: 27804222.0000 - val_rmse: 5272.9399\n",
      "Epoch 10/40\n",
      "16/16 [==============================] - 0s 13ms/step - loss: 39019956.0000 - rmse: 6246.5698 - val_loss: 24625058.0000 - val_rmse: 4962.3311\n",
      "Epoch 11/40\n",
      "16/16 [==============================] - 0s 13ms/step - loss: 36688628.0000 - rmse: 6057.0869 - val_loss: 22236376.0000 - val_rmse: 4715.5112\n",
      "Epoch 12/40\n",
      "16/16 [==============================] - 0s 13ms/step - loss: 32726592.0000 - rmse: 5720.6870 - val_loss: 20657000.0000 - val_rmse: 4544.9609\n",
      "Epoch 13/40\n",
      "16/16 [==============================] - 0s 14ms/step - loss: 30714784.0000 - rmse: 5542.0620 - val_loss: 18599940.0000 - val_rmse: 4312.7261\n",
      "Epoch 14/40\n",
      "16/16 [==============================] - 0s 12ms/step - loss: 28853222.0000 - rmse: 5371.4883 - val_loss: 17136502.0000 - val_rmse: 4139.5854\n",
      "Epoch 15/40\n",
      "16/16 [==============================] - 0s 12ms/step - loss: 28109704.0000 - rmse: 5301.8262 - val_loss: 15908892.0000 - val_rmse: 3988.5527\n",
      "Epoch 16/40\n",
      "16/16 [==============================] - 0s 13ms/step - loss: 26069304.0000 - rmse: 5105.7773 - val_loss: 15043163.0000 - val_rmse: 3878.5078\n",
      "Epoch 17/40\n",
      "16/16 [==============================] - 0s 13ms/step - loss: 24789848.0000 - rmse: 4978.9053 - val_loss: 14079541.0000 - val_rmse: 3752.2251\n",
      "Epoch 18/40\n",
      "16/16 [==============================] - 0s 13ms/step - loss: 23432248.0000 - rmse: 4840.6509 - val_loss: 13444490.0000 - val_rmse: 3666.6252\n",
      "Epoch 19/40\n",
      "16/16 [==============================] - 0s 13ms/step - loss: 22726606.0000 - rmse: 4767.2065 - val_loss: 12979585.0000 - val_rmse: 3602.6702\n",
      "Epoch 20/40\n",
      "16/16 [==============================] - 0s 12ms/step - loss: 22002830.0000 - rmse: 4690.6797 - val_loss: 12579912.0000 - val_rmse: 3546.7673\n",
      "Epoch 21/40\n",
      "16/16 [==============================] - 0s 10ms/step - loss: 21973698.0000 - rmse: 4687.5737 - val_loss: 12749519.0000 - val_rmse: 3570.5972\n",
      "Epoch 22/40\n",
      "16/16 [==============================] - 0s 14ms/step - loss: 20808924.0000 - rmse: 4561.6416 - val_loss: 11944458.0000 - val_rmse: 3456.0237\n",
      "Epoch 23/40\n",
      "16/16 [==============================] - 0s 13ms/step - loss: 20445786.0000 - rmse: 4521.6621 - val_loss: 11801388.0000 - val_rmse: 3435.2627\n",
      "Epoch 24/40\n",
      "16/16 [==============================] - 0s 10ms/step - loss: 20198934.0000 - rmse: 4494.2822 - val_loss: 11925337.0000 - val_rmse: 3453.2554\n",
      "Epoch 25/40\n",
      "16/16 [==============================] - 0s 12ms/step - loss: 19481024.0000 - rmse: 4413.6899 - val_loss: 11351404.0000 - val_rmse: 3369.1304\n",
      "Epoch 26/40\n",
      "16/16 [==============================] - 0s 10ms/step - loss: 19772154.0000 - rmse: 4446.5479 - val_loss: 11387096.0000 - val_rmse: 3374.4231\n",
      "Epoch 27/40\n",
      "16/16 [==============================] - 0s 14ms/step - loss: 19610424.0000 - rmse: 4428.3242 - val_loss: 11136923.0000 - val_rmse: 3337.1477\n",
      "Epoch 28/40\n",
      "16/16 [==============================] - 0s 10ms/step - loss: 19008844.0000 - rmse: 4359.8711 - val_loss: 11786430.0000 - val_rmse: 3433.0835\n",
      "Epoch 29/40\n",
      "16/16 [==============================] - 0s 10ms/step - loss: 19771922.0000 - rmse: 4446.5210 - val_loss: 11336201.0000 - val_rmse: 3366.8721\n",
      "Epoch 30/40\n",
      "16/16 [==============================] - 0s 14ms/step - loss: 18785734.0000 - rmse: 4334.2085 - val_loss: 10463365.0000 - val_rmse: 3234.6553\n",
      "Epoch 31/40\n",
      "16/16 [==============================] - 0s 13ms/step - loss: 18512494.0000 - rmse: 4302.5713 - val_loss: 10293845.0000 - val_rmse: 3208.3440\n",
      "Epoch 32/40\n",
      "16/16 [==============================] - 0s 11ms/step - loss: 18205324.0000 - rmse: 4266.7261 - val_loss: 10691025.0000 - val_rmse: 3269.6555\n",
      "Epoch 33/40\n",
      "16/16 [==============================] - 0s 14ms/step - loss: 18796152.0000 - rmse: 4335.4097 - val_loss: 10055349.0000 - val_rmse: 3170.9578\n",
      "Epoch 34/40\n",
      "16/16 [==============================] - 0s 11ms/step - loss: 18091930.0000 - rmse: 4253.4165 - val_loss: 10073749.0000 - val_rmse: 3173.8574\n",
      "Epoch 35/40\n",
      "16/16 [==============================] - 0s 14ms/step - loss: 18426668.0000 - rmse: 4292.5854 - val_loss: 9912607.0000 - val_rmse: 3148.3689\n",
      "Epoch 36/40\n",
      "16/16 [==============================] - 0s 13ms/step - loss: 17891862.0000 - rmse: 4229.8320 - val_loss: 9802949.0000 - val_rmse: 3130.9050\n",
      "Epoch 37/40\n",
      "16/16 [==============================] - 0s 13ms/step - loss: 17772144.0000 - rmse: 4215.6572 - val_loss: 9637267.0000 - val_rmse: 3104.3330\n",
      "Epoch 38/40\n",
      "16/16 [==============================] - 0s 13ms/step - loss: 17951074.0000 - rmse: 4236.8257 - val_loss: 9618947.0000 - val_rmse: 3101.3809\n",
      "Epoch 39/40\n",
      "16/16 [==============================] - 0s 13ms/step - loss: 17040592.0000 - rmse: 4127.9785 - val_loss: 9382275.0000 - val_rmse: 3062.9868\n",
      "Epoch 40/40\n",
      "16/16 [==============================] - 0s 12ms/step - loss: 17650042.0000 - rmse: 4201.1494 - val_loss: 9368207.0000 - val_rmse: 3060.6895\n"
     ]
    }
   ],
   "source": [
    "## Set up and call-backs for early stopping\n",
    "import keras\n",
    "filepath = 'my_model_file.hdf5' # define where the model is saved\n",
    "callbacks_list = [\n",
    "        keras.callbacks.EarlyStopping(\n",
    "            monitor = 'val_loss', # Use accuracy to monitor the model\n",
    "            patience = 4 # Stop after one step with lower accuracy\n",
    "        ),\n",
    "        keras.callbacks.ModelCheckpoint(\n",
    "            filepath = filepath, # file where the checkpoint is saved\n",
    "            monitor = 'val_loss', # Don't overwrite the saved model unless val_loss is worse\n",
    "            save_best_only = True # Only save model if it is the best\n",
    "        )\n",
    "]\n",
    "\n",
    "nn.compile(optimizer = 'rmsprop', loss = 'mean_squared_error', \n",
    "                metrics = [tf.keras.metrics.RootMeanSquaredError(name='rmse')])\n",
    "\n",
    "history = nn.fit(X_train, y_train, \n",
    "                  epochs = 40, batch_size = 256,\n",
    "                  validation_data = (X_test, y_test),\n",
    "                  callbacks = callbacks_list,  # Call backs argument here\n",
    "                  verbose = 1)"
   ]
  },
  {
   "cell_type": "code",
   "execution_count": 72,
   "id": "61163e22",
   "metadata": {},
   "outputs": [
    {
     "data": {
      "image/png": "[encoded data removed]",
      "text/plain": [
       "<Figure size 432x288 with 1 Axes>"
      ]
     },
     "metadata": {
      "needs_background": "light"
     },
     "output_type": "display_data"
    }
   ],
   "source": [
    "def plot_accuracy(history):\n",
    "    train_acc = history.history['rmse']\n",
    "    test_acc = history.history['val_rmse']\n",
    "    x = list(range(1, len(test_acc) + 1))\n",
    "    plt.plot(x, test_acc, color = 'red', label = 'Test RMSE')\n",
    "    plt.plot(x, train_acc, label = 'Training RMSE')\n",
    "    plt.grid()\n",
    "    plt.legend()\n",
    "    plt.xlabel('Epoch')\n",
    "    plt.ylabel('Root Mean Squared Error')\n",
    "    plt.title('RMSE vs. Epoch')  \n",
    "    \n",
    "plot_accuracy(history)   "
   ]
  },
  {
   "cell_type": "markdown",
   "id": "bd5e2d62",
   "metadata": {},
   "source": [
    "We can notice that after 7 Epochs we do not see a big reduction on MSE. And after 15 Epochs the RMSE basically is a flat line."
   ]
  }
 ],
 "metadata": {
  "kernelspec": {
   "display_name": "Python 3",
   "language": "python",
   "name": "python3"
  },
  "language_info": {
   "codemirror_mode": {
    "name": "ipython",
    "version": 3
   },
   "file_extension": ".py",
   "mimetype": "text/x-python",
   "name": "python",
   "nbconvert_exporter": "python",
   "pygments_lexer": "ipython3",
   "version": "3.8.8"
  }
 },
 "nbformat": 4,
 "nbformat_minor": 5
}
